{
  "cells":[
    {
      "cell_type":"code",
      "source":[
        "!pip install google_trans_new nltk"
      ],
      "execution_count":2,
      "outputs":[
        {
          "name":"stdout",
          "text":[
            "Collecting google_trans_new\r\n",
            "  Downloading google_trans_new-1.1.9-py3-none-any.whl (9.2 kB)\r\n",
            "Collecting nltk\r\n",
            "  Downloading nltk-3.6.2-py3-none-any.whl (1.5 MB)\r\n",
            "\u001b[?25l\r\u001b[K     |▎                               | 10 kB 25.8 MB\/s eta 0:00:01\r\u001b[K     |▌                               | 20 kB 30.3 MB\/s eta 0:00:01\r\u001b[K     |▊                               | 30 kB 32.2 MB\/s eta 0:00:01\r\u001b[K     |█                               | 40 kB 35.4 MB\/s eta 0:00:01\r\u001b[K     |█▏                              | 51 kB 36.6 MB\/s eta 0:00:01\r\u001b[K     |█▍                              | 61 kB 37.5 MB\/s eta 0:00:01\r\u001b[K     |█▋                              | 71 kB 34.6 MB\/s eta 0:00:01\r\u001b[K     |█▉                              | 81 kB 35.8 MB\/s eta 0:00:01\r\u001b[K     |██                              | 92 kB 33.6 MB\/s eta 0:00:01\r\u001b[K     |██▎                             | 102 kB 27.4 MB\/s eta 0:00:01\r\u001b[K     |██▌                             | 112 kB 27.4 MB\/s eta 0:00:01\r\u001b[K     |██▊                             | 122 kB 27.4 MB\/s eta 0:00:01\r\u001b[K     |███                             | 133 kB 27.4 MB\/s eta 0:00:01\r\u001b[K     |███▏                            | 143 kB 27.4 MB\/s eta 0:00:01\r\u001b[K     |███▍                            | 153 kB 27.4 MB\/s eta 0:00:01\r\u001b[K     |███▋                            | 163 kB 27.4 MB\/s eta 0:00:01\r\u001b[K     |███▉                            | 174 kB 27.4 MB\/s eta 0:00:01\r\u001b[K     |████                            | 184 kB 27.4 MB\/s eta 0:00:01\r\u001b[K     |████▎                           | 194 kB 27.4 MB\/s eta 0:00:01\r\u001b[K     |████▌                           | 204 kB 27.4 MB\/s eta 0:00:01\r\u001b[K     |████▊                           | 215 kB 27.4 MB\/s eta 0:00:01\r\u001b[K     |█████                           | 225 kB 27.4 MB\/s eta 0:00:01\r\u001b[K     |█████▏                          | 235 kB 27.4 MB\/s eta 0:00:01\r\u001b[K     |█████▍                          | 245 kB 27.4 MB\/s eta 0:00:01\r\u001b[K     |█████▋                          | 256 kB 27.4 MB\/s eta 0:00:01\r\u001b[K     |█████▉                          | 266 kB 27.4 MB\/s eta 0:00:01\r\u001b[K     |██████                          | 276 kB 27.4 MB\/s eta 0:00:01\r\u001b[K     |██████▎                         | 286 kB 27.4 MB\/s eta 0:00:01\r\u001b[K     |██████▌                         | 296 kB 27.4 MB\/s eta 0:00:01\r\u001b[K     |██████▊                         | 307 kB 27.4 MB\/s eta 0:00:01\r\u001b[K     |███████                         | 317 kB 27.4 MB\/s eta 0:00:01\r\u001b[K     |███████▏                        | 327 kB 27.4 MB\/s eta 0:00:01\r\u001b[K     |███████▍                        | 337 kB 27.4 MB\/s eta 0:00:01\r\u001b[K     |███████▊                        | 348 kB 27.4 MB\/s eta 0:00:01\r\u001b[K     |████████                        | 358 kB 27.4 MB\/s eta 0:00:01\r\u001b[K     |████████▏                       | 368 kB 27.4 MB\/s eta 0:00:01\r\u001b[K     |████████▍                       | 378 kB 27.4 MB\/s eta 0:00:01\r\u001b[K     |████████▋                       | 389 kB 27.4 MB\/s eta 0:00:01\r\u001b[K     |████████▉                       | 399 kB 27.4 MB\/s eta 0:00:01\r\u001b[K     |█████████                       | 409 kB 27.4 MB\/s eta 0:00:01\r\u001b[K     |█████████▎                      | 419 kB 27.4 MB\/s eta 0:00:01\r\u001b[K     |█████████▌                      | 430 kB 27.4 MB\/s eta 0:00:01\r\u001b[K     |█████████▊                      | 440 kB 27.4 MB\/s eta 0:00:01\r\u001b[K     |██████████                      | 450 kB 27.4 MB\/s eta 0:00:01\r\u001b[K     |██████████▏                     | 460 kB 27.4 MB\/s eta 0:00:01\r\u001b[K     |██████████▍                     | 471 kB 27.4 MB\/s eta 0:00:01\r\u001b[K     |██████████▋                     | 481 kB 27.4 MB\/s eta 0:00:01\r\u001b[K     |██████████▉                     | 491 kB 27.4 MB\/s eta 0:00:01\r\u001b[K     |███████████                     | 501 kB 27.4 MB\/s eta 0:00:01\r\u001b[K     |███████████▎                    | 512 kB 27.4 MB\/s eta 0:00:01\r\u001b[K     |███████████▌                    | 522 kB 27.4 MB\/s eta 0:00:01\r\u001b[K     |███████████▊                    | 532 kB 27.4 MB\/s eta 0:00:01\r\u001b[K     |████████████                    | 542 kB 27.4 MB\/s eta 0:00:01\r\u001b[K     |████████████▏                   | 552 kB 27.4 MB\/s eta 0:00:01\r\u001b[K     |████████████▍                   | 563 kB 27.4 MB\/s eta 0:00:01\r\u001b[K     |████████████▋                   | 573 kB 27.4 MB\/s eta 0:00:01\r\u001b[K     |████████████▉                   | 583 kB 27.4 MB\/s eta 0:00:01\r\u001b[K     |█████████████                   | 593 kB 27.4 MB\/s eta 0:00:01\r\u001b[K     |█████████████▎                  | 604 kB 27.4 MB\/s eta 0:00:01\r\u001b[K     |█████████████▌                  | 614 kB 27.4 MB\/s eta 0:00:01\r\u001b[K     |█████████████▊                  | 624 kB 27.4 MB\/s eta 0:00:01\r\u001b[K     |██████████████                  | 634 kB 27.4 MB\/s eta 0:00:01\r\u001b[K     |██████████████▏                 | 645 kB 27.4 MB\/s eta 0:00:01\r\u001b[K     |██████████████▍                 | 655 kB 27.4 MB\/s eta 0:00:01\r\u001b[K     |██████████████▋                 | 665 kB 27.4 MB\/s eta 0:00:01\r\u001b[K     |██████████████▉                 | 675 kB 27.4 MB\/s eta 0:00:01\r\u001b[K     |███████████████▏                | 686 kB 27.4 MB\/s eta 0:00:01\r\u001b[K     |███████████████▍                | 696 kB 27.4 MB\/s eta 0:00:01\r\u001b[K     |███████████████▋                | 706 kB 27.4 MB\/s eta 0:00:01\r\u001b[K     |███████████████▉                | 716 kB 27.4 MB\/s eta 0:00:01\r\u001b[K     |████████████████                | 727 kB 27.4 MB\/s eta 0:00:01\r\u001b[K     |████████████████▎               | 737 kB 27.4 MB\/s eta 0:00:01\r\u001b[K     |████████████████▌               | 747 kB 27.4 MB\/s eta 0:00:01\r\u001b[K     |████████████████▊               | 757 kB 27.4 MB\/s eta 0:00:01\r\u001b[K     |█████████████████               | 768 kB 27.4 MB\/s eta 0:00:01\r\u001b[K     |█████████████████▏              | 778 kB 27.4 MB\/s eta 0:00:01\r\u001b[K     |█████████████████▍              | 788 kB 27.4 MB\/s eta 0:00:01\r\u001b[K     |█████████████████▋              | 798 kB 27.4 MB\/s eta 0:00:01\r\u001b[K     |█████████████████▉              | 808 kB 27.4 MB\/s eta 0:00:01\r\u001b[K     |██████████████████              | 819 kB 27.4 MB\/s eta 0:00:01\r\u001b[K     |██████████████████▎             | 829 kB 27.4 MB\/s eta 0:00:01\r\u001b[K     |██████████████████▌             | 839 kB 27.4 MB\/s eta 0:00:01\r\u001b[K     |██████████████████▊             | 849 kB 27.4 MB\/s eta 0:00:01\r\u001b[K     |███████████████████             | 860 kB 27.4 MB\/s eta 0:00:01\r\u001b[K     |███████████████████▏            | 870 kB 27.4 MB\/s eta 0:00:01\r\u001b[K     |███████████████████▍            | 880 kB 27.4 MB\/s eta 0:00:01\r\u001b[K     |███████████████████▋            | 890 kB 27.4 MB\/s eta 0:00:01\r\u001b[K     |███████████████████▉            | 901 kB 27.4 MB\/s eta 0:00:01\r\u001b[K     |████████████████████            | 911 kB 27.4 MB\/s eta 0:00:01\r\u001b[K     |████████████████████▎           | 921 kB 27.4 MB\/s eta 0:00:01\r\u001b[K     |████████████████████▌           | 931 kB 27.4 MB\/s eta 0:00:01\r\u001b[K     |████████████████████▊           | 942 kB 27.4 MB\/s eta 0:00:01\r\u001b[K     |█████████████████████           | 952 kB 27.4 MB\/s eta 0:00:01\r\u001b[K     |█████████████████████▏          | 962 kB 27.4 MB\/s eta 0:00:01\r\u001b[K     |█████████████████████▍          | 972 kB 27.4 MB\/s eta 0:00:01\r\u001b[K     |█████████████████████▋          | 983 kB 27.4 MB\/s eta 0:00:01\r\u001b[K     |█████████████████████▉          | 993 kB 27.4 MB\/s eta 0:00:01\r\u001b[K     |██████████████████████          | 1.0 MB 27.4 MB\/s eta 0:00:01\r\u001b[K     |██████████████████████▎         | 1.0 MB 27.4 MB\/s eta 0:00:01\r\u001b[K     |██████████████████████▌         | 1.0 MB 27.4 MB\/s eta 0:00:01\r\u001b[K     |██████████████████████▉         | 1.0 MB 27.4 MB\/s eta 0:00:01\r\u001b[K     |███████████████████████         | 1.0 MB 27.4 MB\/s eta 0:00:01\r\u001b[K     |███████████████████████▎        | 1.1 MB 27.4 MB\/s eta 0:00:01\r\u001b[K     |███████████████████████▌        | 1.1 MB 27.4 MB\/s eta 0:00:01\r\u001b[K     |███████████████████████▊        | 1.1 MB 27.4 MB\/s eta 0:00:01\r\u001b[K     |████████████████████████        | 1.1 MB 27.4 MB\/s eta 0:00:01\r\u001b[K     |████████████████████████▏       | 1.1 MB 27.4 MB\/s eta 0:00:01\r\u001b[K     |████████████████████████▍       | 1.1 MB 27.4 MB\/s eta 0:00:01\r\u001b[K     |████████████████████████▋       | 1.1 MB 27.4 MB\/s eta 0:00:01\r\u001b[K     |████████████████████████▉       | 1.1 MB 27.4 MB\/s eta 0:00:01\r\u001b[K     |█████████████████████████       | 1.1 MB 27.4 MB\/s eta 0:00:01\r\u001b[K     |█████████████████████████▎      | 1.1 MB 27.4 MB\/s eta 0:00:01\r\u001b[K     |█████████████████████████▌      | 1.2 MB 27.4 MB\/s eta 0:00:01\r\u001b[K     |█████████████████████████▊      | 1.2 MB 27.4 MB\/s eta 0:00:01\r\u001b[K     |██████████████████████████      | 1.2 MB 27.4 MB\/s eta 0:00:01\r\u001b[K     |██████████████████████████▏     | 1.2 MB 27.4 MB\/s eta 0:00:01\r\u001b[K     |██████████████████████████▍     | 1.2 MB 27.4 MB\/s eta 0:00:01\r\u001b[K     |██████████████████████████▋     | 1.2 MB 27.4 MB\/s eta 0:00:01\r\u001b[K     |██████████████████████████▉     | 1.2 MB 27.4 MB\/s eta 0:00:01\r\u001b[K     |███████████████████████████     | 1.2 MB 27.4 MB\/s eta 0:00:01\r\u001b[K     |███████████████████████████▎    | 1.2 MB 27.4 MB\/s eta 0:00:01\r\u001b[K     |███████████████████████████▌    | 1.2 MB 27.4 MB\/s eta 0:00:01\r\u001b[K     |███████████████████████████▊    | 1.3 MB 27.4 MB\/s eta 0:00:01\r\u001b[K     |████████████████████████████    | 1.3 MB 27.4 MB\/s eta 0:00:01\r\u001b[K     |████████████████████████████▏   | 1.3 MB 27.4 MB\/s eta 0:00:01\r\u001b[K     |████████████████████████████▍   | 1.3 MB 27.4 MB\/s eta 0:00:01\r\u001b[K     |████████████████████████████▋   | 1.3 MB 27.4 MB\/s eta 0:00:01\r\u001b[K     |████████████████████████████▉   | 1.3 MB 27.4 MB\/s eta 0:00:01\r\u001b[K     |█████████████████████████████   | 1.3 MB 27.4 MB\/s eta 0:00:01\r\u001b[K     |█████████████████████████████▎  | 1.3 MB 27.4 MB\/s eta 0:00:01\r\u001b[K     |█████████████████████████████▌  | 1.3 MB 27.4 MB\/s eta 0:00:01\r\u001b[K     |█████████████████████████████▊  | 1.4 MB 27.4 MB\/s eta 0:00:01\r\u001b[K     |██████████████████████████████  | 1.4 MB 27.4 MB\/s eta 0:00:01\r\u001b[K     |██████████████████████████████▎ | 1.4 MB 27.4 MB\/s eta 0:00:01\r\u001b[K     |██████████████████████████████▌ | 1.4 MB 27.4 MB\/s eta 0:00:01\r\u001b[K     |██████████████████████████████▊ | 1.4 MB 27.4 MB\/s eta 0:00:01\r\u001b[K     |███████████████████████████████ | 1.4 MB 27.4 MB\/s eta 0:00:01\r\u001b[K     |███████████████████████████████▏| 1.4 MB 27.4 MB\/s eta 0:00:01\r\u001b[K     |███████████████████████████████▍| 1.4 MB 27.4 MB\/s eta 0:00:01\r\u001b[K     |███████████████████████████████▋| 1.4 MB 27.4 MB\/s eta 0:00:01\r\u001b[K     |███████████████████████████████▉| 1.4 MB 27.4 MB\/s eta 0:00:01\r\u001b[K     |████████████████████████████████| 1.5 MB 27.4 MB\/s \r\n",
            "\u001b[?25hRequirement already satisfied: joblib in \/opt\/python\/envs\/default\/lib\/python3.8\/site-packages (from nltk) (1.0.1)\r\n",
            "Requirement already satisfied: click in \/opt\/python\/envs\/default\/lib\/python3.8\/site-packages (from nltk) (7.1.2)\r\n",
            "Requirement already satisfied: tqdm in \/opt\/python\/envs\/default\/lib\/python3.8\/site-packages (from nltk) (4.61.0)\r\n",
            "Requirement already satisfied: regex in \/opt\/python\/envs\/default\/lib\/python3.8\/site-packages (from nltk) (2021.4.4)\r\n",
            "Installing collected packages: nltk, google-trans-new\r\n",
            "Successfully installed google-trans-new-1.1.9 nltk-3.6.2\r\n",
            "\u001b[33mWARNING: You are using pip version 21.1; however, version 21.1.2 is available.\r\n",
            "You should consider upgrading via the '\/opt\/python\/envs\/default\/bin\/python -m pip install --upgrade pip' command.\u001b[0m\r\n"
          ],
          "output_type":"stream"
        }
      ],
      "metadata":{
        
      }
    },
    {
      "cell_type":"code",
      "source":[
        "import nltk\n",
        "import warnings\n",
        "warnings.filterwarnings('ignore')\n",
        "\n",
        "nltk.download('stopwords')\n",
        "nltk.download('punkt')"
      ],
      "execution_count":3,
      "outputs":[
        {
          "name":"stderr",
          "text":[
            "[nltk_data] Downloading package stopwords to\n",
            "[nltk_data]     \/home\/datalore\/nltk_data...\n",
            "[nltk_data]   Unzipping corpora\/stopwords.zip.\n",
            "[nltk_data] Downloading package punkt to \/home\/datalore\/nltk_data...\n",
            "[nltk_data]   Unzipping tokenizers\/punkt.zip.\n"
          ],
          "output_type":"stream"
        },
        {
          "data":{
            "text\/plain":[
              "True"
            ]
          },
          "metadata":{
            
          },
          "output_type":"display_data"
        }
      ],
      "metadata":{
        
      }
    },
    {
      "cell_type":"code",
      "source":[
        "import pandas as pd\n",
        "\n",
        "dataset = pd.read_csv(\"https:\/\/raw.githubusercontent.com\/rizalespe\/Dataset-Sentimen-Analisis-Bahasa-Indonesia\/master\/dataset_tweet_sentimen_tayangan_tv.csv\")\n",
        "dataset.drop('Id', axis=1, inplace=True)"
      ],
      "execution_count":4,
      "outputs":[
        
      ],
      "metadata":{
        
      }
    },
    {
      "cell_type":"markdown",
      "source":[
        "# Label Encoding"
      ],
      "attachments":{
        
      },
      "metadata":{
        
      }
    },
    {
      "cell_type":"code",
      "source":[
        "from sklearn.preprocessing import LabelEncoder\n",
        "\n",
        "dataset['Sentiment'] = LabelEncoder().fit_transform(dataset['Sentiment'])\n",
        "dataset['Acara TV'] = LabelEncoder().fit_transform(dataset['Acara TV'])"
      ],
      "execution_count":5,
      "outputs":[
        
      ],
      "metadata":{
        
      }
    },
    {
      "cell_type":"code",
      "source":[
        "dataset"
      ],
      "execution_count":6,
      "outputs":[
        {
          "data":{
            "text\/html":[
              "<div>\n",
              "<style scoped>\n",
              "    .dataframe tbody tr th:only-of-type {\n",
              "        vertical-align: middle;\n",
              "    }\n",
              "\n",
              "    .dataframe tbody tr th {\n",
              "        vertical-align: top;\n",
              "    }\n",
              "\n",
              "    .dataframe thead th {\n",
              "        text-align: right;\n",
              "    }\n",
              "<\/style>\n",
              "<table border=\"1\" class=\"dataframe\">\n",
              "  <thead>\n",
              "    <tr style=\"text-align: right;\">\n",
              "      <th><\/th>\n",
              "      <th>Sentiment<\/th>\n",
              "      <th>Acara TV<\/th>\n",
              "      <th>Jumlah Retweet<\/th>\n",
              "      <th>Text Tweet<\/th>\n",
              "    <\/tr>\n",
              "  <\/thead>\n",
              "  <tbody>\n",
              "    <tr>\n",
              "      <th>0<\/th>\n",
              "      <td>1<\/td>\n",
              "      <td>0<\/td>\n",
              "      <td>12<\/td>\n",
              "      <td>Undang @N_ShaniJKT48 ke hitamputih, pemenang S...<\/td>\n",
              "    <\/tr>\n",
              "    <tr>\n",
              "      <th>1<\/th>\n",
              "      <td>1<\/td>\n",
              "      <td>0<\/td>\n",
              "      <td>6<\/td>\n",
              "      <td>Selamat berbuka puasa Semoga amal ibadah hari ...<\/td>\n",
              "    <\/tr>\n",
              "    <tr>\n",
              "      <th>2<\/th>\n",
              "      <td>1<\/td>\n",
              "      <td>0<\/td>\n",
              "      <td>9<\/td>\n",
              "      <td>Ada nih di trans7 hitam putih, dia dpt penghar...<\/td>\n",
              "    <\/tr>\n",
              "    <tr>\n",
              "      <th>3<\/th>\n",
              "      <td>1<\/td>\n",
              "      <td>0<\/td>\n",
              "      <td>2<\/td>\n",
              "      <td>selamat ya mas @adietaufan masuk hitamputih<\/td>\n",
              "    <\/tr>\n",
              "    <tr>\n",
              "      <th>4<\/th>\n",
              "      <td>1<\/td>\n",
              "      <td>0<\/td>\n",
              "      <td>1<\/td>\n",
              "      <td>Asiknya nonton Hitam Putih Trans7<\/td>\n",
              "    <\/tr>\n",
              "    <tr>\n",
              "      <th>...<\/th>\n",
              "      <td>...<\/td>\n",
              "      <td>...<\/td>\n",
              "      <td>...<\/td>\n",
              "      <td>...<\/td>\n",
              "    <\/tr>\n",
              "    <tr>\n",
              "      <th>395<\/th>\n",
              "      <td>0<\/td>\n",
              "      <td>3<\/td>\n",
              "      <td>0<\/td>\n",
              "      <td>ini apa banget deh gw paling kesel klo orang2 ...<\/td>\n",
              "    <\/tr>\n",
              "    <tr>\n",
              "      <th>396<\/th>\n",
              "      <td>0<\/td>\n",
              "      <td>3<\/td>\n",
              "      <td>0<\/td>\n",
              "      <td>Orang miskin semakin miskin klo sekolah melaku...<\/td>\n",
              "    <\/tr>\n",
              "    <tr>\n",
              "      <th>397<\/th>\n",
              "      <td>0<\/td>\n",
              "      <td>3<\/td>\n",
              "      <td>0<\/td>\n",
              "      <td>ga boLeh emosi, cepat tua, nonton #matanajwame...<\/td>\n",
              "    <\/tr>\n",
              "    <tr>\n",
              "      <th>398<\/th>\n",
              "      <td>0<\/td>\n",
              "      <td>3<\/td>\n",
              "      <td>0<\/td>\n",
              "      <td>dr penampilan saja kyk preman taunya bkin kisr...<\/td>\n",
              "    <\/tr>\n",
              "    <tr>\n",
              "      <th>399<\/th>\n",
              "      <td>0<\/td>\n",
              "      <td>3<\/td>\n",
              "      <td>0<\/td>\n",
              "      <td>Jawab aja ga usah berbelit-belit. Muter2 ga je...<\/td>\n",
              "    <\/tr>\n",
              "  <\/tbody>\n",
              "<\/table>\n",
              "<p>400 rows × 4 columns<\/p>\n",
              "<\/div>"
            ]
          },
          "metadata":{
            
          },
          "output_type":"display_data"
        }
      ],
      "metadata":{
        
      }
    },
    {
      "cell_type":"markdown",
      "source":[
        "# Case Folding"
      ],
      "attachments":{
        
      },
      "metadata":{
        
      }
    },
    {
      "cell_type":"code",
      "source":[
        "dataset['Text Tweet'] = dataset['Text Tweet'].str.lower()\n",
        "dataset['Text Tweet']"
      ],
      "execution_count":7,
      "outputs":[
        {
          "data":{
            "text\/plain":[
              "0      undang @n_shanijkt48 ke hitamputih, pemenang s...\n",
              "1      selamat berbuka puasa semoga amal ibadah hari ...\n",
              "2      ada nih di trans7 hitam putih, dia dpt penghar...\n",
              "3            selamat ya mas @adietaufan masuk hitamputih\n",
              "4                      asiknya nonton hitam putih trans7\n",
              "                             ...                        \n",
              "395    ini apa banget deh gw paling kesel klo orang2 ...\n",
              "396    orang miskin semakin miskin klo sekolah melaku...\n",
              "397    ga boleh emosi, cepat tua, nonton #matanajwame...\n",
              "398    dr penampilan saja kyk preman taunya bkin kisr...\n",
              "399    jawab aja ga usah berbelit-belit. muter2 ga je...\n",
              "Name: Text Tweet, Length: 400, dtype: object"
            ]
          },
          "metadata":{
            
          },
          "output_type":"display_data"
        }
      ],
      "metadata":{
        
      }
    },
    {
      "cell_type":"code",
      "source":[
        "dataset.info()"
      ],
      "execution_count":8,
      "outputs":[
        {
          "name":"stdout",
          "text":[
            "<class 'pandas.core.frame.DataFrame'>\n",
            "RangeIndex: 400 entries, 0 to 399\n",
            "Data columns (total 4 columns):\n",
            " #   Column          Non-Null Count  Dtype \n",
            "---  ------          --------------  ----- \n",
            " 0   Sentiment       400 non-null    int64 \n",
            " 1   Acara TV        400 non-null    int64 \n",
            " 2   Jumlah Retweet  400 non-null    int64 \n",
            " 3   Text Tweet      400 non-null    object\n",
            "dtypes: int64(3), object(1)\n",
            "memory usage: 12.6+ KB\n"
          ],
          "output_type":"stream"
        }
      ],
      "metadata":{
        
      }
    },
    {
      "cell_type":"markdown",
      "source":[
        "# Text Cleaning"
      ],
      "attachments":{
        
      },
      "metadata":{
        
      }
    },
    {
      "cell_type":"code",
      "source":[
        "import re\n",
        "\n",
        "at_pattern = re.compile(r'@\\w+\\b')\n",
        "hash_pattern = re.compile(r'#\\w+\\b')\n",
        "url_pattern = re.compile(r'(http|https):\/\/.+\\s')        "
      ],
      "execution_count":9,
      "outputs":[
        
      ],
      "metadata":{
        
      }
    },
    {
      "cell_type":"code",
      "source":[
        "dataset['Text Tweet'] = dataset['Text Tweet'].apply(lambda x: x.strip())\n",
        "dataset['Text Tweet'] = dataset['Text Tweet'].apply(lambda x: at_pattern.sub(\"\", x))\n",
        "dataset['Text Tweet'] = dataset['Text Tweet'].apply(lambda x: hash_pattern.sub(\"\", x))\n",
        "dataset['Text Tweet'] = dataset['Text Tweet'].apply(lambda x: url_pattern.sub(\"\", x))"
      ],
      "execution_count":10,
      "outputs":[
        
      ],
      "metadata":{
        
      }
    },
    {
      "cell_type":"markdown",
      "source":[
        "# Translation to English"
      ],
      "attachments":{
        
      },
      "metadata":{
        
      }
    },
    {
      "cell_type":"code",
      "source":[
        "from google_trans_new import google_translator  \n",
        "translator = google_translator()  \n",
        "dataset['Text Tweet'] = dataset['Text Tweet'].apply(lambda x: translator.translate(x, lang_src='id', lang_tgt='en'))"
      ],
      "execution_count":11,
      "outputs":[
        
      ],
      "metadata":{
        
      }
    },
    {
      "cell_type":"markdown",
      "source":[
        "# Stop Word Removal"
      ],
      "attachments":{
        
      },
      "metadata":{
        
      }
    },
    {
      "cell_type":"code",
      "source":[
        "from nltk.corpus import stopwords\n",
        "\n",
        "dataset[\"tokenized_sents\"] = dataset[\"Text Tweet\"].fillna(\"\").map(nltk.word_tokenize)\n",
        "stop_words = set(stopwords.words('english'))\n",
        " \n",
        " \n",
        "filtered_sentence = [w for w in dataset['Text Tweet'] if not w.lower() in stop_words]\n",
        " \n",
        "for w in dataset['Text Tweet']:\n",
        "    if w not in stop_words:\n",
        "        filtered_sentence.append(w)\n",
        " \n",
        "print(dataset['Text Tweet'])\n",
        "print(filtered_sentence)"
      ],
      "execution_count":12,
      "outputs":[
        {
          "name":"stdout",
          "text":[
            "0      Invite to Hitamputih, the winner of the SSK JK...\n",
            "1      Congratulations on breaking fast, hopefully th...\n",
            "2      there is no black and white trans7, he can als...\n",
            "3                        congratulations, bro, enter it \n",
            "4                  cool to watch trans7 black and white \n",
            "                             ...                        \n",
            "395    this is really what is the best because it's t...\n",
            "396    poor people are increasingly poor if the schoo...\n",
            "397    Can't be emotional, old fast, watch, see you s...\n",
            "398    Dr. Just appearance of the thugs taunya bkin c...\n",
            "399    Just answer, you don't need to be convoluted. ...\n",
            "Name: Text Tweet, Length: 400, dtype: object\n",
            "['Invite to Hitamputih, the winner of the SSK JKT48 must be MJKT48 is more appropriate for his achievements ', 'Congratulations on breaking fast, hopefully the deeds of worship today are accepted by God ', 'there is no black and white trans7, he can also award in Norway ', 'congratulations, bro, enter it ', 'cool to watch trans7 black and white ', 'the most complete and interesting event especially for black and white ', 'black and white t7 really inspiring ', 'really like the black and white event ', 'Cool Lu Bro. ', 'there was a black and white one on the trans7 ga, there was a handsome beautiful ', 'love binding friendship in the heart ... .... https:\/\/www.instagram.com\/p\/btqszj3jo9a\/ ', 'Thank you, sir ... I want to help us to send my sister to school ... ', 'Hopefully Hitamutihtrans will smoothly ', 'Best Black White Trans7 https:\/\/www.instagram.com\/p\/btyytxmgvkd\/ ', 'the best black and white program for see ', 'invites on the black and white program, he has dropped dangdut academy smart singing his cool voice song ', \"Good design like this on the trans7 islambled, while entertainment da'wah. Thank you Ustadz Wijayanto ... \", 'Wow when can Rihanna be a black and white guest star like on. So miss, when will you look at it again? ', 'Thank you for watching black and white tonight. Hopefully it can inspire and can provide lessons for Sobat7. ', 'The black and white event on the topics is good. TTG multiple personalities. ', \"Watch the story of Anastasya Wella, it's exciting, bro. Got 9 different personalities. \", \"What makes always longing if it's far from it ... \", 'wihh great grandparents ', 'After waiting for a long time. finally nongol also in trans7 black and white ', 'The more cool black and white ', 'Spensa Boys Origin Poso in Black and White Trans7 Original You Cool !! who uses a blue white shirt, the gingsul there is greetings from here ', 'wahh cool vocalgroup ... thanks ', 'Every day I always watch black and white on Trans7. Hbs the event is really good, Mas Dedy. ', 'This black and white event on Trans7 tonight is a mantab discussion! agree that if it will be reproduced that reviews this kind of thing ', 'lg fun to watch black and white ... keep watching on the spot ', 'trio of unye on the master dedy event ... thanks ', 'Honest companies must have honest workers. ', 'Cool, invite them on the Hitamputih event or presidential event ', 'Really like the black and white episode tonight! ', \"Kangen Jeketi Becomes a Trans7 Black White Guest Star, It's Exciting That Fitting Gen 1 Invited to Black and White \", 'Thank you for watching black and white today. hopefully inspire and be entertained ', \"It's just black and white ... I want to be invited ..... \", 'very inspiring. Today is a lot of inspiration for me ', 'exciting black and white trans7 live ', 'thankful we live in Indonesia ', 'Really agree with the words of Deddy Corbuzier in this trans7 black and white. The teacher does not need to be given a service, just raise the salary ', 'Good afternoon Happy Activities also we always wait black and white in Trans7 favorite chaenel ', 'There are & cool ... !!! ', 'watching trans7 black and white cool after beautiful jesika, handsome dedy ', 'black and white program is okay ', 'Come on tweeps docked, soon to be black and white will live! ', 'Thank you tweeps has watched black and white today, tomorrow live live on ', \"It's always cool ... anyone .. \", 'subhanallah, ni karunia karunia that no appeal ... trans7 hitches ', 'very impressed after hearing one of them, if I was a person who ... going forward and black and white good luck always ', 'black and white stupid, Haruka was invited for a while to see younglex, it was even insulted, stupid ', 'Sad to see the government, the weight lifting champions throughout Asia but there is no cost to follow the National Championship .. ', 'Champion 1 weight lifting throughout Asia, did not accept the prize and could not join the National Championship because it was constrained by costs ', \"Haruka next time if invited to black and white just rejected, the host doesn't respect you \", 'it feels strange to watch a black and white program but the audience is a child who is a school in the cave school ', 'Sad to hear your curhatan, Roxana. May God show the way and bright spot for Roxana ', 'sad when Indonesian children have difficulty using Indonesian and more comfortable using foreign languages ', 'arrogantly mentang2 rich use it was announced, I hosted rich in trans7 black and white ... !!! ', \"It's really black and white at Trans7. Just say anything. which damaged the young generation of shows like this \", 'The bankrupt person is not a matter of money but bankrupt is a person who has no dream -bangqomar ', 'Scary Power Oma Martha ', 'If the result is not suitable for what the demonstrators will want to demo LG, it is sized if this is interpreted as forced will ', \"Farhat's mouth Abas Anjay is really on \", \"If the next episode appears again in my won't watch black and white .. \", 'yeah many small children watching ', 'a child who needs confession from his father ', 'Mario Teguh dumped his child? ', 'just a blind person can share, how come the one holds a high office of corruption ', 'Garing is really a person ', 'if now you sing kids ,, but the song na ... too painful embarrassing to be mentioned ', 'Not the meaning of Ngatain TP just asking only a small or underdrawn person? ', 'Your boss if you work wrong, I snapped, if the girl is even joked, then laugh ', \"Veteran's voice if necessary corruptors in the law die! \", 'how come the news is not wideen ', 'blind people, in the room using sunglasses ', 'yes the world is moved by the departure of Ms. Jupe ', \"So that's the fate of our athletes? \", 'How come a friend has forgotten with his best friend if you have met his old friend \/ new friend? ', 'Baby Tatan Nangis seeing Daddy, ', 'Lift the hat and beat the head for Mbah Simpen ', 'What kind of religious tolerance is applied in Serang Banten? Tolerance is only myth ', 'Veteran voice: if necessary corruptors in the law die! ', 'grieving for his child buk sir ', 'Want a good thing but not necessarily everything is expected? ', \"I don't know why everything gets bad when you leave \", 'already sodok ajah bu haha ', 'need firmness from the community and our government need action not only babble in medsos ', 'life must be carried out instead of thinking ', 'The leader is a personal sacrificed person ', 'Life is carried out, not think of. Mongol Stress ', 'The demo will not complete the problem, must be Humafaran Ajha ', \"Imagine that the whole conventional will make it online where the proposal doesn't need to pay anything. individual \", \"It's better conventional taxis, if we are trapped there are taxis passing directly, if you wait online. \", \"Is there anything like this in another country? the point is I don't agree to this rich business \", \"Don't have a gadget, expensive, cheat \/ gk clearly argonya often argo horses and not safely use conventional \", \"life is a choice, don't surrender to the situation \", \"The neighbor's emergency fierce opened fire on a cat around the house \", 'sad once see the state of the animal in persecution, ', \"just talk about other people's problems, embarrassing \", 'Dedy arrogant ', 'really like watching can add insight, can learn how to discuss a problem, cool ', \"Ngakak, it's good for the point \", 'Miss ILC Indobesia Lawyers Club on TVOne ', 'Indonesia Lawyers Club is the most awaited TVOne talkshow program, which addresses the latest topics ', 'Always be amazed by Buya Syafii Maarif - ILC TVONE https:\/\/youtu.be\/gpxskltal5y ', 'I have a proud commander, ILC tvone https:\/\/youtu.be\/tr2tn1u7awaw ', 'Rating Indonesia Lawyers Club TV One immediately shot ', 'cool if the ILC is like this chat - ILC TVOne ', 'Everything Watch TVOne, Indonesia Lawyers Club Yuk ', 'learn how to argue in law ', 'Congratulations on Returning Indonesia Lawyers Club TVOne ', 'this is what makes you cool ... aa gymnastiar ', 'sincerely releases and prays ... ', 'Bang Smart ... Great ', 'Pak Ustadz. very cool.. ', \"It's time for peace humming \", \"it's time to peace humming and splitting religious people destroyed \", 'Hopefully what is the true way of Indonesia ', 'ILC tonight cool ', 'The beauty of the ILC tonight, all religious leaders were rugged and agreed to leave the Ahok case which damaged the harmony of the nation ', 'really agree with Mr. Ustad ', 'Top Top Utadz olive Rasmin ', \"Let's watch TV One always presents objective news \", '... Polmart is indeed wise ', 'People support the KPK to investigate the E-KTP case ', 'television shows that I really like ', \"Can't wait 2019 wait !!! \", 'Spirit and Healthy Always Mr. Karni Faithful Audience Waiting for ILC to Return ', \"cool to listen to the advice from aa gym, hopefully it's healthy and in his protection \", 'Very many knowledge we can absorb overnight, soothing ', 'Proud to ', 'Salute with a commitment, sir, firmly, authoritative, this is the real general. ', 'Sincerely General ... ', 'aa gym ... soothing mentally and soul ', 'Thank you Buya Syafii. proud of his clarity ', \"Explanation of the National Police Chief is clear and firm. Barakallahu. Let's open your heart \", \"If we have love, it should forgive each other if there are people who want to apologize, it's just cool, salute. \", 'Until he was taught, because initially calm, at the end of the cold sweat his eyes were genuine funny ', 'Ahmad Dhani is sure to be exciting ... ', \"Hearing Mr. Hasim Muzadi's opinion is very reassure, cool \", 'salute and respect for Bang Jhonson Panjaitan straightforward and reasonable ... ', 'Compact and with defense between BNN n police ... ', 'cool times this bald lawyer brother ', 'Jokowi is really good orgole ... Hendropriyono ', 'Top n enlightens Prof. ..! ', 'The media supports Ahok because the advertising income from the corporation is also large. ', 'Cool makes me literacy ', 'Salute with Pak Darmawan Salihin ... ', 'Semga ILC remains to provide correct information ', 'Great, cool yag debate ', \"What is waiting is not TVSHOW but Indonesia Lawyers Club. TVShow doesn't match the TVOne broadcast character! \", 'Indonesia Lawyers Club TVOne tonight seems to be canceled again. embarrassing this regime is too sick, so fear http:\/\/fb.me\/18pynacs ', \"The potential for terrorists is very large. Don't make a statement that gives a terrorist opportunity \", 'Indonesia Many problems but there is no strict attitude from the president, asked on the demo busy imaging & uploading videos not important! ', \"If you see the event aiming for Habib Rizieq, Habib doesn't need to go back to Indonesia. not important. No quality. \", ': A strong economic minority controls a weak economic majority, has never been discussed, this is a radical source, sad ', \"Once again reminded to keep the distance from radical Islam if you don't want to see this nation destroyed. \", 'His words are not interesting. Ga contain. ', 'Anis slandered he said he ... ', 'A question to Metromini to be used as a metronome formed by congestion which is quite densely given by the Son of Lightning. ', 'For Ahok defenders, check the way of thinking, the inferior to elementary school children. ', 'Kok kayak provocative the carrier of the program. Different class with ', \"I personally dislike the Najwa and ILC eye shows, don't solve the problem like it. \", 'Is it true that the lie repeated ... ', 'poisoned with praise ... ', 'Males watching, the topic is not present. ', 'even though the lie runs as fast as lightning one time the truth will defeat it ', \"Org whose name is the look of the Prophet but the heart of the devil, in accordance with the statement of Nazarudin's lawyer \", 'Officials are busy talking about the \"Questionnaire Rights\", TV0ne http:\/\/fb.me\/2RGMoQ4CL ', 'I understand that I failed to understand ... ', \"Speaking that much, I don't mean what you want ... \", 'the oath of seeing his face was wanted to throw it using shoes, but it was bid ', 'Useless sir. Fahri Dower was still hurt by the KPK. ', 'DPR is disturbed, the KPK is targeted ', 'Teach the Board of Questionnaire Rights !!! ', \"I am the people, but I am sometimes not happy to see the way superbodi, how come it doesn't choose to ... \", 'Knit Jakarta again after being torn apart because of past leadership ', 'That is, love for money is the root of the crime ', \"the more furious about seeing the behavior and morality of individuals who are in nama's Islam \", 'the public lime, when hair is white, but in black paint ', 'Even though the difference in class is still free without cancellation, ask why ????? ', 'Watching the ILC Betawi figure says, the Betawi is easy, \"Bacot Lu Keeps ...\" so that\\'s the point ... ', 'knit back Jakarta? It\\'s easy. \"Bacot Lu Jaga\" ', 'Buya Syafii Maarif who is older loses wise from the advice of Bung Eep which is a lot younger ', 'seizing basic rights as humans must be canceled by law ', 'The police are pity so it looks very stupid to face legal arguments and IT experts ', \"That's Mr. Abi Manyu Kasian .... he didn't understand whatsapp, sad \", 'The star appeared no party or any character who was able to move people http:\/\/fb.me\/2wdyokqzu ', \"appealing to do not be provoked, but I sparked hatred ... it doesn't conjure but makes it cloudy .. \", 'anarchist action at the time of action not by the demonstrator ', 'Whatever it is, remember we will die, spooky ', 'Who else? The chairman of the market thugs follow, embarrassing ', \"Don't because just take care of the moral of pornographic content, this country is emergency radicalism, want to wait for a war in the new Syria KPI aware? \", 'we need the fact that the evidence is not just talking lies ', 'Kasian yes, the pussy looked at the red batik, the tears were only krn ahoax ', \"the shaitan is your enemy, don't be used as a human friend, bs, but the devil doesn't have a humanity ... \", \"Hearing Mrs. Marwah's story I felt stupid, embarrassing \", 'this is the style of her style really sadly sad ', 'misguided observers ', 'Speaking of complicated ribet ', 'ih funny, bro, kick andy just smile ', 'Watch Pak Hasan Merkids on Kick Andy Very Inspired by Salut Pak Hasan ', 'how to change your dream to be the action of kick andy ', 'Kickandy Gokil ', 'Thank you for watching the EPS program change your dreams into action, hopefully useful ', 'Find your Jiwu lanterns ', \"Agung ... I will invite it again ... to tell a lot about your life's journey ... \", 'The musicians who spin the spirit of nationalism and diversity of NKRI dentures prices ... ', 'Children start imagining. ', 'the crazy way to climb the mountain is extraordinarily steady soul ', 'Unfortunately the natural nature will love you ', 'the former prisoner was embraced to be found to live a life that lbh either again ', 'Agung is able to prove an amazing work can be produced by learning otodidak SCR ', 'One of the events that made the audience laugh at Agung Hapsah appeared ', 'Agung will be invited to tell a lot about the journey of your life ... ', 'fall and get up to help others ', 'It was proud to be there after I had contributed a small work for the Ronny NKRI ', \"alas gimbal friend, tonight, don't forget to watch the crazy way of climbing Mountain Ala Cak Tarpin \", 'Only afraid people can be brave, because of courage ', \"You are just close to those you like. and you avoid people who don't you like \", '16th children who are adult thinking are able to authorize their own school by plowing rice fields ', 'I miss watching my father, father immediately said, you should be grateful ', 'this afternoon it also became a venue for the reunion of a friend of Kosti DKI and Kosti Central Java ', 'my father is funny huh ', 'tomorrow morning must be satisfied, so go home first just a photo with the picture ', 'Bahagiya entered TV with friends @ Kick Andy ... https:\/\/www.instagram.com\/p\/btgua2khkxq\/ ', 'Cool and hilarious about their guests - those who are indeed design competitions from Malang ', 'funny ni father, make laughter kept, exactly kayak on tv http:\/\/ift.tt\/2o1rw9w ', 'Thank you for inspiring me to open the eyes of many people because the proven loyalty is true love ', 'Love is great. God is extraordinary. ', 'The best makeup is a woman is a spirit and confidence ... ', 'Watch. inspire once ', 'We support Ahok, because of good people ', 'Mr. Ahok ', 'clean humans must be brave ', 'like the advice of Mr. Anta Amir who asked Ahok filtering the words ', 'Watch interesting, open mind, inspire. always success ', 'This is my hero !! ha ha ha ha ', 'salute the same people like that ', 'Hopefully it will be ok and longevity. Hopefully the event will be smooth ', 'The event of people inspires each other. ', 'The voice of Penta Boys is really cool, deserves to be 1st place in Romania ', 'This Penta Boys still exists and I like their voices. Cool ', 'Apparently, tucked away a few seconds in Kick Andy. cool and extraordinary ', 'thank you ', 'very inspirational shows that give us a lot of motivation to be more able to love people disabilities ', 'Their struggle is special, because it can penetrate limitations as gratitude to God, very inspiring. ', 'Thank God for your life right now ', 'events that are very inspiring once, salute ', 'like all the guests invited, definitely inspire ', \"if it's already peaked don't forget the garbage brought down again because nature is not the place to stop ngampah on the mountain \", 'RT: 61 WNA Threatened to be Deported and Lia Threatened ', \"It's better to turn on candles than cursing to darkness \", \"I don't want to lie to yourself. Gimbal Alas, Malang. \", 'the canoe will not be able to take a call in the desert, however it will be emp ', 'If we make money, we will be forced to seek not lazy ', \"in life, sometimes we get more what we don't want .NET \", \"husband trials when sick wives, wife trials when their husbands don't have money, sad \", 'Moved hearing poetry \"women who did not stop awake\" from the children of Shinta Nuriyah, sad ', 'The child belongs to both, not the property of one, helping his wife take care of children, like that ', \"The husband's exam is when the wife is sick, and the wife's exam is when the husband has nothing \", \"Bung Andy just stopped by a teenage style as a teen idol and didn't have time to buy it \", 'Your weakness is just a temporary, because you are strengthening it, but if you become ', 'The biggest strength that can defeat stress is the ability to choose the right mind. We will ', \"That's what I'm sleeping. Try it if you don't want to get cancer. Try KM Rasain. How come it's like the slander. \", 'Klo go home, die. No one takes care. Poor right. we put him in the apartment ', 'if he is fighting no rotten eggs in his ketek ', 'Pak his face was really sad when his adopted brother said. ', 'Andy looks stiff and keep attitude when you invite Ahok to be a guest. maybe look more formal ', 'The more stressful is increasingly sleepy ', \"Don't see people from the cover, but look at him from the other side. Physical can be BC but the contents are different. \", 'like an elephant who is said to be a psychologist at ', \"Don't be burned by Mr. Andy \", 'Make stomach ache watch the oldest behalat story in Indonesia ... ', 'jobs that are not in accordance with their educational qualifications ', \"but it doesn't go to heaven, so worship is it in SIA2 HAHAHA RT: SP says the tattooed person may not worship?!? \", 'Tattooed people should not worship?!? ', 'Are you stupid? no! ... you are stupid by a mike-marginal system ', 'How about the National Examination, I was leaked, the angel in the grave was already leaked. ', 'The child has graduated from a high value of highway and passed the invitation invitation to the pdhl mission he was very difficult ... ', 'Aja Dutchman cares about Indonesian people in the Isolated area, how do you do the Indonesian government? Zhonk Kickandymetrotv. ', 'creeps watching ', 'Indonesia2. Even we are educated to be broken .. ', 'the severity of the quality of education in Indonesia ', 'For whatever, Kick Andy is now bald? ', 'so feel embarrassed because it loses to an immune but has more than perfect org ', 'the law in Indonesia is still far from the word fair ', \"I think it's getting older, even if you are toothless. sluggish. disappointed to see Amen Rais at \", 'Media must fill up more about the success story on TV, not gossip, riot news & events GG clear, tai cat !! ', 'If you want to be valued by people, respect other people too ', \"Under there many more difficult don't complain \", 'Life is a tiring struggle, tired ', 'People who stop learning will be stupid http:\/\/untub6158.m.humandesignindonesia.com\/untub6158\/rahasia-dalam-bata- ', \"Take time to think, don't become a destroyer http:\/\/koepb3112.m.networknumberonone.com\/koepb3112\/tak-ada-yang-Berang-Meski-SA \", 'sad when seeing a lot of destroyers in Indonesia ', 'Mike-marginal system fools many people ', 'stress see all the chaos there ', \"It's really good, try you to be in Pak Ahok's position \", 'Try to go home, die. No one takes care. Poor right. we will put him in the apartment ', 'There are no fools, there are only lazy people ', \"agree. Al Misbah, Najwa's eyes and Kick Andy favorite program \", 'Metro_TV Najwa Eyes: Pancasila Has We http:\/\/metrotvn.ws\/znaj3Qeb ', \"my taste gatau lately this likes watching metro tv if you don't kick andy eyes najwa, tastes aging \", \"Steady Najwa's eyes. It must be exciting \", \"Friends ... Let's watch Najwa's eyes on Metro TV with the Chairperson of the PKB DPP \", 'Fall the truth of the eyes of Najwa ', \"Congratulations and a large family of extraordinary achievements, cool dialogue, loss if you miss watching Najwa's eyes \", 'Hopefully the Najwa Metro TV eye show is a favorite and more quality events in the future ', \"Surely Win Only Najwa's Most OK RT: Supports Najwa's Eyes Become the Best Tv Program http:\/\/tl.gd\/nnoc2f \", 'Eye Najwa Metrotv, Inspiring ', \"why today feels peaceful and happy watching Najwa's eyes \", 'the coolest najwa eyes of his eyes as sharp as a razor ', \"Najwa's eyes tonight it seems like it will be very exciting \", \"Najwa's eyes are coolest cool \", 'Whole! Appearing at home, Mr. Anies Baswedan looked brilliant in the eyes of Najwa Metro TV ', \"indeed quite romantic and satisfying the viewers because the existence of Najwa's eyes is getting successful \", 'It is very interesting to take part in the discussion of Ahok - Anis in the eyes of Najwa http:\/\/fb.me\/5kyy9NADC ', 'Ahok feels smart and feels great at the Debate of the Najwa Metro TV event. ', \"Najwa's eyes and Metro TV sided with Paslon 3 Untung Ahok smart. Spirit sir! Allah be with you \", 'It has been proven in the eyes of Najwa, if Ahok is more powerful than Anis insalatly Ahok Jarot wins .. ', \"Sip, cool. Najwa's eye-style debate is cooler than the style of the KPUD that has been regulated for LBH Jaim \", \"hopefully Mr. Jokowi sees Najwa's eye so that the problem of the surrounding problems can be overcome \", \"Cool. Najwa's eyes too. \", 'metro tv is cool inspiring with the eyes of his najwa kick andy ', 'Metro TV is the coolest TV yes educative and inspires such as the eyes of Najwa and Kick Andy ', 'the leader must be intelligent politely firmly honestly clean I choose aniessandipemerunda ', 'Look at the Islamic, Smart, Exemplary Leaders ', 'really tonight always wait for another exciting topic and add insight. ', 'Beautiful gift tonight. Matanajwametrotv https:\/\/instagram.com\/p\/3oowqcwgyj\/ ', 'Tjokro and his house are exemplary, about seniority that turns on and not dwarf. ', \"BP Bambang Woidjojayanto's spirit ... \", 'Learn from Gusdur Matanajwametrotv ', \"Najwa's eyes, Mrs. Susi BPK Dahlan and BPK Faisal Basri Inspiring \", \"metro tv cool tonight which lg weekly night loss if you don't watch eye najwa \", 'independence is the right of all nations ', 'exciting nih najwa tonight ', 'Salute for Ahok. ', 'Super salute with Mr. Ahok ', 'Matanajwametrotv authoritated no word_berkuasa remains simple, amazed ', 'Salute and be proud of Mr. BJ. Habibie for the umpteenth time ', 'Relaxing chat with Abraham Slamet, JK, Jokowi, Anies Baswedan, Ganjar ', 'Anis Baswedan, Jokowi, Ganjar Pranowo, JK, Abraham Samad Inspiration Indonesia Cool !!! ', 'extraordinary leaders ', 'Low, the simplicity of Pak Jokowi is worthy of imagination ', \"It's exciting, Dahlan Iskan and Speaker of the House \", 'Smoke-free villages that are very inspiring and apparently there. extraordinary ', 'always and still inspired by love BJH and HAB http:\/\/myloc.me\/8ddto ', 'always give a lot of inspiration ', 'extraordinary speaker ', 'cie who lg is a job on ', \"After watching Najwa's eyes about radicalism on the news directly. Seram \", \"Najwa's eyes were trash, which only felt the atmosphere. I set students, choose the ILC. \", 'strange words again at the eyes of the eyes of Najwa Metrotv teaching Islam to Muslims said to be more crazy Islamition Islam figures nodded ', 'The ILC cools the eyes of Najwa provoking Metro TV, the TV garbage is not bored of showing Islam! Metro TV Destroyer Pancasila ', \"Report Metro TV to KPI, the metro stress of Najwa's eyes has always lost by the ILC \", \"Disappointed Najwa's eyes tonight is not qualified !! narrative najwa proof he doesn't understand the problem because of the alignments be ignorance \", \"For Najwa's eyes, the host don't like to interrupt the talk of people if it's not finished. impolite \", 'So emotion & heartache watching Najwa TV eyes. Change Chanel just cuisine ', \"The time of Isis Mimin was the KP bomb. Malay, sorry if Isis what organization joined the organization of the Ma'am Mata Najwa? Is that mimin? \", \"The picture is, the integrity is not clear. just damage the reputation of Najwa's eye \", 'Because in a relax of my own friends with a member of the DPR in the eyes of Najwa Lu immediately hate Metro TV ', 'sick of seeing FZ arrogance at the Najwa eye live event ', \"Males see even though the world number one comes, unwilling. and the host of Najwa's eyes was black \", 'Frequency of entry and associating with the eyes of Najwa, it was not used by ngadu2 ', \"It's already said in the eyes of Najwa Metro TV, just ask myself to Mr. Anis, how come slander \", 'Why does the MUI not issue a fatwa forbidden corruption? It feels like you have to invite MUI officials in the eyes of Najwa ', 'bravo najwa eyes ', \"pity ... when the Najwa eye debate in MetroTV just Mr. Basuki is almost crying, it's not imagined yesterday's debate again \", 'after the event in the eyes of najwa pity pak anies jd monthly in medsos to be blasphemed ', 'Nyetel Metro TV Eyes Najwa Debate yesterday made a home problem, try checking now there is no house on the web ', 'The initial time of the password appeared as the cawagub on metro tv in the eyes of the eyes of Najwa, the password was lying ... ', \"This testimony surprised Anies supporters who felt deceived at Najwa's eyes. Deep down \", 'at home ahok, metro tv, and their eyes are like garbage scattered anies my choice for sure ', 'he said the metrotv boy boycott, how come you peek at the eyes of Najwa ', \"Lazy see Anies, just bring this bad luck, it's better to see Ahok just in the eyes of Najwa \", 'watching najwa eyes I see anies talking to make sleepy ', \"Najwa's eyes always accused the operation of opheric opponents \", 'see the eyes of the lazy najwa, the discussion is just a draw ... one of them sells dreams ', 'I think the eyes of Najwa complain the second sheep of the cagub in the second round of the DKI election ... ', \"It can't be prison, just a fake witness. Mr. Ahok said \", 'Pak Anis Pak Anis, recording 2 years ago MSH is kept loh sm metrotv is not ashamed, nelen saliva saliva? ', 'As good as any system when running a bad person. then be the system is not good too ', \"Ridwan Bae Tai just looks like it's been crying, let's go to Bully then the Bae ... \", 'sadly see the score setting in Indonesian football ', 'Previously youth fought against invaders, now youth against bad habits that never change ', 'Resign sir? Haha Tai? ', \"You say we don't have work, huh, \", 'PSSI where self prostitutes have no conscience! embarrassing ', 'The comal bridge is still not yet ... the solid concrewed ... ', \"How does enforner break the law? we don't pay their uniforms just to uphold the jungle law \", 'Mr. Vice President was taught Mulu (Bajusama Staff Hotel & Torn Pants) ', 'RT: The leader occurs a situation not to strengthen the material ', 'Not enough by watching, you have to enter it to make a change of ahok matanajwametrotv ', 'State institutions in Indonesia are dilapidated ... ', 'Stupid org2. Arguably he thought he had fun. sure bgt jd suspect ', \"this is really what is the best because it's the person on the debate using this emotion \", 'poor people are increasingly poor if the school does wild levies continue ', \"Can't be emotional, old fast, watch, see you suddenly join the emotion of talking \", 'Dr. Just appearance of the thugs taunya bkin chaotic, destroyer ', \"Just answer, you don't need to be convoluted. Muter2 is not clear, waste time. Ga Mutu \", 'Invite to Hitamputih, the winner of the SSK JKT48 must be MJKT48 is more appropriate for his achievements ', 'Congratulations on breaking fast, hopefully the deeds of worship today are accepted by God ', 'there is no black and white trans7, he can also award in Norway ', 'congratulations, bro, enter it ', 'cool to watch trans7 black and white ', 'the most complete and interesting event especially for black and white ', 'black and white t7 really inspiring ', 'really like the black and white event ', 'Cool Lu Bro. ', 'there was a black and white one on the trans7 ga, there was a handsome beautiful ', 'love binding friendship in the heart ... .... https:\/\/www.instagram.com\/p\/btqszj3jo9a\/ ', 'Thank you, sir ... I want to help us to send my sister to school ... ', 'Hopefully Hitamutihtrans will smoothly ', 'Best Black White Trans7 https:\/\/www.instagram.com\/p\/btyytxmgvkd\/ ', 'the best black and white program for see ', 'invites on the black and white program, he has dropped dangdut academy smart singing his cool voice song ', \"Good design like this on the trans7 islambled, while entertainment da'wah. Thank you Ustadz Wijayanto ... \", 'Wow when can Rihanna be a black and white guest star like on. So miss, when will you look at it again? ', 'Thank you for watching black and white tonight. Hopefully it can inspire and can provide lessons for Sobat7. ', 'The black and white event on the topics is good. TTG multiple personalities. ', \"Watch the story of Anastasya Wella, it's exciting, bro. Got 9 different personalities. \", \"What makes always longing if it's far from it ... \", 'wihh great grandparents ', 'After waiting for a long time. finally nongol also in trans7 black and white ', 'The more cool black and white ', 'Spensa Boys Origin Poso in Black and White Trans7 Original You Cool !! who uses a blue white shirt, the gingsul there is greetings from here ', 'wahh cool vocalgroup ... thanks ', 'Every day I always watch black and white on Trans7. Hbs the event is really good, Mas Dedy. ', 'This black and white event on Trans7 tonight is a mantab discussion! agree that if it will be reproduced that reviews this kind of thing ', 'lg fun to watch black and white ... keep watching on the spot ', 'trio of unye on the master dedy event ... thanks ', 'Honest companies must have honest workers. ', 'Cool, invite them on the Hitamputih event or presidential event ', 'Really like the black and white episode tonight! ', \"Kangen Jeketi Becomes a Trans7 Black White Guest Star, It's Exciting That Fitting Gen 1 Invited to Black and White \", 'Thank you for watching black and white today. hopefully inspire and be entertained ', \"It's just black and white ... I want to be invited ..... \", 'very inspiring. Today is a lot of inspiration for me ', 'exciting black and white trans7 live ', 'thankful we live in Indonesia ', 'Really agree with the words of Deddy Corbuzier in this trans7 black and white. The teacher does not need to be given a service, just raise the salary ', 'Good afternoon Happy Activities also we always wait black and white in Trans7 favorite chaenel ', 'There are & cool ... !!! ', 'watching trans7 black and white cool after beautiful jesika, handsome dedy ', 'black and white program is okay ', 'Come on tweeps docked, soon to be black and white will live! ', 'Thank you tweeps has watched black and white today, tomorrow live live on ', \"It's always cool ... anyone .. \", 'subhanallah, ni karunia karunia that no appeal ... trans7 hitches ', 'very impressed after hearing one of them, if I was a person who ... going forward and black and white good luck always ', 'black and white stupid, Haruka was invited for a while to see younglex, it was even insulted, stupid ', 'Sad to see the government, the weight lifting champions throughout Asia but there is no cost to follow the National Championship .. ', 'Champion 1 weight lifting throughout Asia, did not accept the prize and could not join the National Championship because it was constrained by costs ', \"Haruka next time if invited to black and white just rejected, the host doesn't respect you \", 'it feels strange to watch a black and white program but the audience is a child who is a school in the cave school ', 'Sad to hear your curhatan, Roxana. May God show the way and bright spot for Roxana ', 'sad when Indonesian children have difficulty using Indonesian and more comfortable using foreign languages ', 'arrogantly mentang2 rich use it was announced, I hosted rich in trans7 black and white ... !!! ', \"It's really black and white at Trans7. Just say anything. which damaged the young generation of shows like this \", 'The bankrupt person is not a matter of money but bankrupt is a person who has no dream -bangqomar ', 'Scary Power Oma Martha ', 'If the result is not suitable for what the demonstrators will want to demo LG, it is sized if this is interpreted as forced will ', \"Farhat's mouth Abas Anjay is really on \", \"If the next episode appears again in my won't watch black and white .. \", 'yeah many small children watching ', 'a child who needs confession from his father ', 'Mario Teguh dumped his child? ', 'just a blind person can share, how come the one holds a high office of corruption ', 'Garing is really a person ', 'if now you sing kids ,, but the song na ... too painful embarrassing to be mentioned ', 'Not the meaning of Ngatain TP just asking only a small or underdrawn person? ', 'Your boss if you work wrong, I snapped, if the girl is even joked, then laugh ', \"Veteran's voice if necessary corruptors in the law die! \", 'how come the news is not wideen ', 'blind people, in the room using sunglasses ', 'yes the world is moved by the departure of Ms. Jupe ', \"So that's the fate of our athletes? \", 'How come a friend has forgotten with his best friend if you have met his old friend \/ new friend? ', 'Baby Tatan Nangis seeing Daddy, ', 'Lift the hat and beat the head for Mbah Simpen ', 'What kind of religious tolerance is applied in Serang Banten? Tolerance is only myth ', 'Veteran voice: if necessary corruptors in the law die! ', 'grieving for his child buk sir ', 'Want a good thing but not necessarily everything is expected? ', \"I don't know why everything gets bad when you leave \", 'already sodok ajah bu haha ', 'need firmness from the community and our government need action not only babble in medsos ', 'life must be carried out instead of thinking ', 'The leader is a personal sacrificed person ', 'Life is carried out, not think of. Mongol Stress ', 'The demo will not complete the problem, must be Humafaran Ajha ', \"Imagine that the whole conventional will make it online where the proposal doesn't need to pay anything. individual \", \"It's better conventional taxis, if we are trapped there are taxis passing directly, if you wait online. \", \"Is there anything like this in another country? the point is I don't agree to this rich business \", \"Don't have a gadget, expensive, cheat \/ gk clearly argonya often argo horses and not safely use conventional \", \"life is a choice, don't surrender to the situation \", \"The neighbor's emergency fierce opened fire on a cat around the house \", 'sad once see the state of the animal in persecution, ', \"just talk about other people's problems, embarrassing \", 'Dedy arrogant ', 'really like watching can add insight, can learn how to discuss a problem, cool ', \"Ngakak, it's good for the point \", 'Miss ILC Indobesia Lawyers Club on TVOne ', 'Indonesia Lawyers Club is the most awaited TVOne talkshow program, which addresses the latest topics ', 'Always be amazed by Buya Syafii Maarif - ILC TVONE https:\/\/youtu.be\/gpxskltal5y ', 'I have a proud commander, ILC tvone https:\/\/youtu.be\/tr2tn1u7awaw ', 'Rating Indonesia Lawyers Club TV One immediately shot ', 'cool if the ILC is like this chat - ILC TVOne ', 'Everything Watch TVOne, Indonesia Lawyers Club Yuk ', 'learn how to argue in law ', 'Congratulations on Returning Indonesia Lawyers Club TVOne ', 'this is what makes you cool ... aa gymnastiar ', 'sincerely releases and prays ... ', 'Bang Smart ... Great ', 'Pak Ustadz. very cool.. ', \"It's time for peace humming \", \"it's time to peace humming and splitting religious people destroyed \", 'Hopefully what is the true way of Indonesia ', 'ILC tonight cool ', 'The beauty of the ILC tonight, all religious leaders were rugged and agreed to leave the Ahok case which damaged the harmony of the nation ', 'really agree with Mr. Ustad ', 'Top Top Utadz olive Rasmin ', \"Let's watch TV One always presents objective news \", '... Polmart is indeed wise ', 'People support the KPK to investigate the E-KTP case ', 'television shows that I really like ', \"Can't wait 2019 wait !!! \", 'Spirit and Healthy Always Mr. Karni Faithful Audience Waiting for ILC to Return ', \"cool to listen to the advice from aa gym, hopefully it's healthy and in his protection \", 'Very many knowledge we can absorb overnight, soothing ', 'Proud to ', 'Salute with a commitment, sir, firmly, authoritative, this is the real general. ', 'Sincerely General ... ', 'aa gym ... soothing mentally and soul ', 'Thank you Buya Syafii. proud of his clarity ', \"Explanation of the National Police Chief is clear and firm. Barakallahu. Let's open your heart \", \"If we have love, it should forgive each other if there are people who want to apologize, it's just cool, salute. \", 'Until he was taught, because initially calm, at the end of the cold sweat his eyes were genuine funny ', 'Ahmad Dhani is sure to be exciting ... ', \"Hearing Mr. Hasim Muzadi's opinion is very reassure, cool \", 'salute and respect for Bang Jhonson Panjaitan straightforward and reasonable ... ', 'Compact and with defense between BNN n police ... ', 'cool times this bald lawyer brother ', 'Jokowi is really good orgole ... Hendropriyono ', 'Top n enlightens Prof. ..! ', 'The media supports Ahok because the advertising income from the corporation is also large. ', 'Cool makes me literacy ', 'Salute with Pak Darmawan Salihin ... ', 'Semga ILC remains to provide correct information ', 'Great, cool yag debate ', \"What is waiting is not TVSHOW but Indonesia Lawyers Club. TVShow doesn't match the TVOne broadcast character! \", 'Indonesia Lawyers Club TVOne tonight seems to be canceled again. embarrassing this regime is too sick, so fear http:\/\/fb.me\/18pynacs ', \"The potential for terrorists is very large. Don't make a statement that gives a terrorist opportunity \", 'Indonesia Many problems but there is no strict attitude from the president, asked on the demo busy imaging & uploading videos not important! ', \"If you see the event aiming for Habib Rizieq, Habib doesn't need to go back to Indonesia. not important. No quality. \", ': A strong economic minority controls a weak economic majority, has never been discussed, this is a radical source, sad ', \"Once again reminded to keep the distance from radical Islam if you don't want to see this nation destroyed. \", 'His words are not interesting. Ga contain. ', 'Anis slandered he said he ... ', 'A question to Metromini to be used as a metronome formed by congestion which is quite densely given by the Son of Lightning. ', 'For Ahok defenders, check the way of thinking, the inferior to elementary school children. ', 'Kok kayak provocative the carrier of the program. Different class with ', \"I personally dislike the Najwa and ILC eye shows, don't solve the problem like it. \", 'Is it true that the lie repeated ... ', 'poisoned with praise ... ', 'Males watching, the topic is not present. ', 'even though the lie runs as fast as lightning one time the truth will defeat it ', \"Org whose name is the look of the Prophet but the heart of the devil, in accordance with the statement of Nazarudin's lawyer \", 'Officials are busy talking about the \"Questionnaire Rights\", TV0ne http:\/\/fb.me\/2RGMoQ4CL ', 'I understand that I failed to understand ... ', \"Speaking that much, I don't mean what you want ... \", 'the oath of seeing his face was wanted to throw it using shoes, but it was bid ', 'Useless sir. Fahri Dower was still hurt by the KPK. ', 'DPR is disturbed, the KPK is targeted ', 'Teach the Board of Questionnaire Rights !!! ', \"I am the people, but I am sometimes not happy to see the way superbodi, how come it doesn't choose to ... \", 'Knit Jakarta again after being torn apart because of past leadership ', 'That is, love for money is the root of the crime ', \"the more furious about seeing the behavior and morality of individuals who are in nama's Islam \", 'the public lime, when hair is white, but in black paint ', 'Even though the difference in class is still free without cancellation, ask why ????? ', 'Watching the ILC Betawi figure says, the Betawi is easy, \"Bacot Lu Keeps ...\" so that\\'s the point ... ', 'knit back Jakarta? It\\'s easy. \"Bacot Lu Jaga\" ', 'Buya Syafii Maarif who is older loses wise from the advice of Bung Eep which is a lot younger ', 'seizing basic rights as humans must be canceled by law ', 'The police are pity so it looks very stupid to face legal arguments and IT experts ', \"That's Mr. Abi Manyu Kasian .... he didn't understand whatsapp, sad \", 'The star appeared no party or any character who was able to move people http:\/\/fb.me\/2wdyokqzu ', \"appealing to do not be provoked, but I sparked hatred ... it doesn't conjure but makes it cloudy .. \", 'anarchist action at the time of action not by the demonstrator ', 'Whatever it is, remember we will die, spooky ', 'Who else? The chairman of the market thugs follow, embarrassing ', \"Don't because just take care of the moral of pornographic content, this country is emergency radicalism, want to wait for a war in the new Syria KPI aware? \", 'we need the fact that the evidence is not just talking lies ', 'Kasian yes, the pussy looked at the red batik, the tears were only krn ahoax ', \"the shaitan is your enemy, don't be used as a human friend, bs, but the devil doesn't have a humanity ... \", \"Hearing Mrs. Marwah's story I felt stupid, embarrassing \", 'this is the style of her style really sadly sad ', 'misguided observers ', 'Speaking of complicated ribet ', 'ih funny, bro, kick andy just smile ', 'Watch Pak Hasan Merkids on Kick Andy Very Inspired by Salut Pak Hasan ', 'how to change your dream to be the action of kick andy ', 'Kickandy Gokil ', 'Thank you for watching the EPS program change your dreams into action, hopefully useful ', 'Find your Jiwu lanterns ', \"Agung ... I will invite it again ... to tell a lot about your life's journey ... \", 'The musicians who spin the spirit of nationalism and diversity of NKRI dentures prices ... ', 'Children start imagining. ', 'the crazy way to climb the mountain is extraordinarily steady soul ', 'Unfortunately the natural nature will love you ', 'the former prisoner was embraced to be found to live a life that lbh either again ', 'Agung is able to prove an amazing work can be produced by learning otodidak SCR ', 'One of the events that made the audience laugh at Agung Hapsah appeared ', 'Agung will be invited to tell a lot about the journey of your life ... ', 'fall and get up to help others ', 'It was proud to be there after I had contributed a small work for the Ronny NKRI ', \"alas gimbal friend, tonight, don't forget to watch the crazy way of climbing Mountain Ala Cak Tarpin \", 'Only afraid people can be brave, because of courage ', \"You are just close to those you like. and you avoid people who don't you like \", '16th children who are adult thinking are able to authorize their own school by plowing rice fields ', 'I miss watching my father, father immediately said, you should be grateful ', 'this afternoon it also became a venue for the reunion of a friend of Kosti DKI and Kosti Central Java ', 'my father is funny huh ', 'tomorrow morning must be satisfied, so go home first just a photo with the picture ', 'Bahagiya entered TV with friends @ Kick Andy ... https:\/\/www.instagram.com\/p\/btgua2khkxq\/ ', 'Cool and hilarious about their guests - those who are indeed design competitions from Malang ', 'funny ni father, make laughter kept, exactly kayak on tv http:\/\/ift.tt\/2o1rw9w ', 'Thank you for inspiring me to open the eyes of many people because the proven loyalty is true love ', 'Love is great. God is extraordinary. ', 'The best makeup is a woman is a spirit and confidence ... ', 'Watch. inspire once ', 'We support Ahok, because of good people ', 'Mr. Ahok ', 'clean humans must be brave ', 'like the advice of Mr. Anta Amir who asked Ahok filtering the words ', 'Watch interesting, open mind, inspire. always success ', 'This is my hero !! ha ha ha ha ', 'salute the same people like that ', 'Hopefully it will be ok and longevity. Hopefully the event will be smooth ', 'The event of people inspires each other. ', 'The voice of Penta Boys is really cool, deserves to be 1st place in Romania ', 'This Penta Boys still exists and I like their voices. Cool ', 'Apparently, tucked away a few seconds in Kick Andy. cool and extraordinary ', 'thank you ', 'very inspirational shows that give us a lot of motivation to be more able to love people disabilities ', 'Their struggle is special, because it can penetrate limitations as gratitude to God, very inspiring. ', 'Thank God for your life right now ', 'events that are very inspiring once, salute ', 'like all the guests invited, definitely inspire ', \"if it's already peaked don't forget the garbage brought down again because nature is not the place to stop ngampah on the mountain \", 'RT: 61 WNA Threatened to be Deported and Lia Threatened ', \"It's better to turn on candles than cursing to darkness \", \"I don't want to lie to yourself. Gimbal Alas, Malang. \", 'the canoe will not be able to take a call in the desert, however it will be emp ', 'If we make money, we will be forced to seek not lazy ', \"in life, sometimes we get more what we don't want .NET \", \"husband trials when sick wives, wife trials when their husbands don't have money, sad \", 'Moved hearing poetry \"women who did not stop awake\" from the children of Shinta Nuriyah, sad ', 'The child belongs to both, not the property of one, helping his wife take care of children, like that ', \"The husband's exam is when the wife is sick, and the wife's exam is when the husband has nothing \", \"Bung Andy just stopped by a teenage style as a teen idol and didn't have time to buy it \", 'Your weakness is just a temporary, because you are strengthening it, but if you become ', 'The biggest strength that can defeat stress is the ability to choose the right mind. We will ', \"That's what I'm sleeping. Try it if you don't want to get cancer. Try KM Rasain. How come it's like the slander. \", 'Klo go home, die. No one takes care. Poor right. we put him in the apartment ', 'if he is fighting no rotten eggs in his ketek ', 'Pak his face was really sad when his adopted brother said. ', 'Andy looks stiff and keep attitude when you invite Ahok to be a guest. maybe look more formal ', 'The more stressful is increasingly sleepy ', \"Don't see people from the cover, but look at him from the other side. Physical can be BC but the contents are different. \", 'like an elephant who is said to be a psychologist at ', \"Don't be burned by Mr. Andy \", 'Make stomach ache watch the oldest behalat story in Indonesia ... ', 'jobs that are not in accordance with their educational qualifications ', \"but it doesn't go to heaven, so worship is it in SIA2 HAHAHA RT: SP says the tattooed person may not worship?!? \", 'Tattooed people should not worship?!? ', 'Are you stupid? no! ... you are stupid by a mike-marginal system ', 'How about the National Examination, I was leaked, the angel in the grave was already leaked. ', 'The child has graduated from a high value of highway and passed the invitation invitation to the pdhl mission he was very difficult ... ', 'Aja Dutchman cares about Indonesian people in the Isolated area, how do you do the Indonesian government? Zhonk Kickandymetrotv. ', 'creeps watching ', 'Indonesia2. Even we are educated to be broken .. ', 'the severity of the quality of education in Indonesia ', 'For whatever, Kick Andy is now bald? ', 'so feel embarrassed because it loses to an immune but has more than perfect org ', 'the law in Indonesia is still far from the word fair ', \"I think it's getting older, even if you are toothless. sluggish. disappointed to see Amen Rais at \", 'Media must fill up more about the success story on TV, not gossip, riot news & events GG clear, tai cat !! ', 'If you want to be valued by people, respect other people too ', \"Under there many more difficult don't complain \", 'Life is a tiring struggle, tired ', 'People who stop learning will be stupid http:\/\/untub6158.m.humandesignindonesia.com\/untub6158\/rahasia-dalam-bata- ', \"Take time to think, don't become a destroyer http:\/\/koepb3112.m.networknumberonone.com\/koepb3112\/tak-ada-yang-Berang-Meski-SA \", 'sad when seeing a lot of destroyers in Indonesia ', 'Mike-marginal system fools many people ', 'stress see all the chaos there ', \"It's really good, try you to be in Pak Ahok's position \", 'Try to go home, die. No one takes care. Poor right. we will put him in the apartment ', 'There are no fools, there are only lazy people ', \"agree. Al Misbah, Najwa's eyes and Kick Andy favorite program \", 'Metro_TV Najwa Eyes: Pancasila Has We http:\/\/metrotvn.ws\/znaj3Qeb ', \"my taste gatau lately this likes watching metro tv if you don't kick andy eyes najwa, tastes aging \", \"Steady Najwa's eyes. It must be exciting \", \"Friends ... Let's watch Najwa's eyes on Metro TV with the Chairperson of the PKB DPP \", 'Fall the truth of the eyes of Najwa ', \"Congratulations and a large family of extraordinary achievements, cool dialogue, loss if you miss watching Najwa's eyes \", 'Hopefully the Najwa Metro TV eye show is a favorite and more quality events in the future ', \"Surely Win Only Najwa's Most OK RT: Supports Najwa's Eyes Become the Best Tv Program http:\/\/tl.gd\/nnoc2f \", 'Eye Najwa Metrotv, Inspiring ', \"why today feels peaceful and happy watching Najwa's eyes \", 'the coolest najwa eyes of his eyes as sharp as a razor ', \"Najwa's eyes tonight it seems like it will be very exciting \", \"Najwa's eyes are coolest cool \", 'Whole! Appearing at home, Mr. Anies Baswedan looked brilliant in the eyes of Najwa Metro TV ', \"indeed quite romantic and satisfying the viewers because the existence of Najwa's eyes is getting successful \", 'It is very interesting to take part in the discussion of Ahok - Anis in the eyes of Najwa http:\/\/fb.me\/5kyy9NADC ', 'Ahok feels smart and feels great at the Debate of the Najwa Metro TV event. ', \"Najwa's eyes and Metro TV sided with Paslon 3 Untung Ahok smart. Spirit sir! Allah be with you \", 'It has been proven in the eyes of Najwa, if Ahok is more powerful than Anis insalatly Ahok Jarot wins .. ', \"Sip, cool. Najwa's eye-style debate is cooler than the style of the KPUD that has been regulated for LBH Jaim \", \"hopefully Mr. Jokowi sees Najwa's eye so that the problem of the surrounding problems can be overcome \", \"Cool. Najwa's eyes too. \", 'metro tv is cool inspiring with the eyes of his najwa kick andy ', 'Metro TV is the coolest TV yes educative and inspires such as the eyes of Najwa and Kick Andy ', 'the leader must be intelligent politely firmly honestly clean I choose aniessandipemerunda ', 'Look at the Islamic, Smart, Exemplary Leaders ', 'really tonight always wait for another exciting topic and add insight. ', 'Beautiful gift tonight. Matanajwametrotv https:\/\/instagram.com\/p\/3oowqcwgyj\/ ', 'Tjokro and his house are exemplary, about seniority that turns on and not dwarf. ', \"BP Bambang Woidjojayanto's spirit ... \", 'Learn from Gusdur Matanajwametrotv ', \"Najwa's eyes, Mrs. Susi BPK Dahlan and BPK Faisal Basri Inspiring \", \"metro tv cool tonight which lg weekly night loss if you don't watch eye najwa \", 'independence is the right of all nations ', 'exciting nih najwa tonight ', 'Salute for Ahok. ', 'Super salute with Mr. Ahok ', 'Matanajwametrotv authoritated no word_berkuasa remains simple, amazed ', 'Salute and be proud of Mr. BJ. Habibie for the umpteenth time ', 'Relaxing chat with Abraham Slamet, JK, Jokowi, Anies Baswedan, Ganjar ', 'Anis Baswedan, Jokowi, Ganjar Pranowo, JK, Abraham Samad Inspiration Indonesia Cool !!! ', 'extraordinary leaders ', 'Low, the simplicity of Pak Jokowi is worthy of imagination ', \"It's exciting, Dahlan Iskan and Speaker of the House \", 'Smoke-free villages that are very inspiring and apparently there. extraordinary ', 'always and still inspired by love BJH and HAB http:\/\/myloc.me\/8ddto ', 'always give a lot of inspiration ', 'extraordinary speaker ', 'cie who lg is a job on ', \"After watching Najwa's eyes about radicalism on the news directly. Seram \", \"Najwa's eyes were trash, which only felt the atmosphere. I set students, choose the ILC. \", 'strange words again at the eyes of the eyes of Najwa Metrotv teaching Islam to Muslims said to be more crazy Islamition Islam figures nodded ', 'The ILC cools the eyes of Najwa provoking Metro TV, the TV garbage is not bored of showing Islam! Metro TV Destroyer Pancasila ', \"Report Metro TV to KPI, the metro stress of Najwa's eyes has always lost by the ILC \", \"Disappointed Najwa's eyes tonight is not qualified !! narrative najwa proof he doesn't understand the problem because of the alignments be ignorance \", \"For Najwa's eyes, the host don't like to interrupt the talk of people if it's not finished. impolite \", 'So emotion & heartache watching Najwa TV eyes. Change Chanel just cuisine ', \"The time of Isis Mimin was the KP bomb. Malay, sorry if Isis what organization joined the organization of the Ma'am Mata Najwa? Is that mimin? \", \"The picture is, the integrity is not clear. just damage the reputation of Najwa's eye \", 'Because in a relax of my own friends with a member of the DPR in the eyes of Najwa Lu immediately hate Metro TV ', 'sick of seeing FZ arrogance at the Najwa eye live event ', \"Males see even though the world number one comes, unwilling. and the host of Najwa's eyes was black \", 'Frequency of entry and associating with the eyes of Najwa, it was not used by ngadu2 ', \"It's already said in the eyes of Najwa Metro TV, just ask myself to Mr. Anis, how come slander \", 'Why does the MUI not issue a fatwa forbidden corruption? It feels like you have to invite MUI officials in the eyes of Najwa ', 'bravo najwa eyes ', \"pity ... when the Najwa eye debate in MetroTV just Mr. Basuki is almost crying, it's not imagined yesterday's debate again \", 'after the event in the eyes of najwa pity pak anies jd monthly in medsos to be blasphemed ', 'Nyetel Metro TV Eyes Najwa Debate yesterday made a home problem, try checking now there is no house on the web ', 'The initial time of the password appeared as the cawagub on metro tv in the eyes of the eyes of Najwa, the password was lying ... ', \"This testimony surprised Anies supporters who felt deceived at Najwa's eyes. Deep down \", 'at home ahok, metro tv, and their eyes are like garbage scattered anies my choice for sure ', 'he said the metrotv boy boycott, how come you peek at the eyes of Najwa ', \"Lazy see Anies, just bring this bad luck, it's better to see Ahok just in the eyes of Najwa \", 'watching najwa eyes I see anies talking to make sleepy ', \"Najwa's eyes always accused the operation of opheric opponents \", 'see the eyes of the lazy najwa, the discussion is just a draw ... one of them sells dreams ', 'I think the eyes of Najwa complain the second sheep of the cagub in the second round of the DKI election ... ', \"It can't be prison, just a fake witness. Mr. Ahok said \", 'Pak Anis Pak Anis, recording 2 years ago MSH is kept loh sm metrotv is not ashamed, nelen saliva saliva? ', 'As good as any system when running a bad person. then be the system is not good too ', \"Ridwan Bae Tai just looks like it's been crying, let's go to Bully then the Bae ... \", 'sadly see the score setting in Indonesian football ', 'Previously youth fought against invaders, now youth against bad habits that never change ', 'Resign sir? Haha Tai? ', \"You say we don't have work, huh, \", 'PSSI where self prostitutes have no conscience! embarrassing ', 'The comal bridge is still not yet ... the solid concrewed ... ', \"How does enforner break the law? we don't pay their uniforms just to uphold the jungle law \", 'Mr. Vice President was taught Mulu (Bajusama Staff Hotel & Torn Pants) ', 'RT: The leader occurs a situation not to strengthen the material ', 'Not enough by watching, you have to enter it to make a change of ahok matanajwametrotv ', 'State institutions in Indonesia are dilapidated ... ', 'Stupid org2. Arguably he thought he had fun. sure bgt jd suspect ', \"this is really what is the best because it's the person on the debate using this emotion \", 'poor people are increasingly poor if the school does wild levies continue ', \"Can't be emotional, old fast, watch, see you suddenly join the emotion of talking \", 'Dr. Just appearance of the thugs taunya bkin chaotic, destroyer ', \"Just answer, you don't need to be convoluted. Muter2 is not clear, waste time. Ga Mutu \"]\n"
          ],
          "output_type":"stream"
        }
      ],
      "metadata":{
        
      }
    },
    {
      "cell_type":"markdown",
      "source":[
        "# TF-IDF"
      ],
      "attachments":{
        
      },
      "metadata":{
        
      }
    },
    {
      "cell_type":"code",
      "source":[
        "from sklearn.feature_extraction.text import TfidfVectorizer\n",
        "\n",
        "vectorizer = TfidfVectorizer()\n",
        "vectors = vectorizer.fit_transform(dataset['Text Tweet'])\n",
        "feature_names = vectorizer.get_feature_names()\n",
        "dense = vectors.todense()\n",
        "denselist = dense.tolist()\n",
        "vectorized_datasets = pd.DataFrame(denselist, columns=feature_names)"
      ],
      "execution_count":13,
      "outputs":[
        
      ],
      "metadata":{
        
      }
    },
    {
      "cell_type":"code",
      "source":[
        "vectorized_datasets"
      ],
      "execution_count":14,
      "outputs":[
        {
          "data":{
            "text\/html":[
              "<div>\n",
              "<style scoped>\n",
              "    .dataframe tbody tr th:only-of-type {\n",
              "        vertical-align: middle;\n",
              "    }\n",
              "\n",
              "    .dataframe tbody tr th {\n",
              "        vertical-align: top;\n",
              "    }\n",
              "\n",
              "    .dataframe thead th {\n",
              "        text-align: right;\n",
              "    }\n",
              "<\/style>\n",
              "<table border=\"1\" class=\"dataframe\">\n",
              "  <thead>\n",
              "    <tr style=\"text-align: right;\">\n",
              "      <th><\/th>\n",
              "      <th>16th<\/th>\n",
              "      <th>18pynacs<\/th>\n",
              "      <th>1st<\/th>\n",
              "      <th>2019<\/th>\n",
              "      <th>2o1rw9w<\/th>\n",
              "      <th>2rgmoq4cl<\/th>\n",
              "      <th>2wdyokqzu<\/th>\n",
              "      <th>3oowqcwgyj<\/th>\n",
              "      <th>5kyy9nadc<\/th>\n",
              "      <th>61<\/th>\n",
              "      <th>...<\/th>\n",
              "      <th>young<\/th>\n",
              "      <th>younger<\/th>\n",
              "      <th>younglex<\/th>\n",
              "      <th>your<\/th>\n",
              "      <th>yourself<\/th>\n",
              "      <th>youth<\/th>\n",
              "      <th>youtu<\/th>\n",
              "      <th>yuk<\/th>\n",
              "      <th>zhonk<\/th>\n",
              "      <th>znaj3qeb<\/th>\n",
              "    <\/tr>\n",
              "  <\/thead>\n",
              "  <tbody>\n",
              "    <tr>\n",
              "      <th>0<\/th>\n",
              "      <td>0.0<\/td>\n",
              "      <td>0.0<\/td>\n",
              "      <td>0.0<\/td>\n",
              "      <td>0.0<\/td>\n",
              "      <td>0.0<\/td>\n",
              "      <td>0.0<\/td>\n",
              "      <td>0.0<\/td>\n",
              "      <td>0.0<\/td>\n",
              "      <td>0.0<\/td>\n",
              "      <td>0.0<\/td>\n",
              "      <td>...<\/td>\n",
              "      <td>0.0<\/td>\n",
              "      <td>0.0<\/td>\n",
              "      <td>0.0<\/td>\n",
              "      <td>0.0<\/td>\n",
              "      <td>0.0<\/td>\n",
              "      <td>0.0<\/td>\n",
              "      <td>0.0<\/td>\n",
              "      <td>0.0<\/td>\n",
              "      <td>0.0<\/td>\n",
              "      <td>0.0<\/td>\n",
              "    <\/tr>\n",
              "    <tr>\n",
              "      <th>1<\/th>\n",
              "      <td>0.0<\/td>\n",
              "      <td>0.0<\/td>\n",
              "      <td>0.0<\/td>\n",
              "      <td>0.0<\/td>\n",
              "      <td>0.0<\/td>\n",
              "      <td>0.0<\/td>\n",
              "      <td>0.0<\/td>\n",
              "      <td>0.0<\/td>\n",
              "      <td>0.0<\/td>\n",
              "      <td>0.0<\/td>\n",
              "      <td>...<\/td>\n",
              "      <td>0.0<\/td>\n",
              "      <td>0.0<\/td>\n",
              "      <td>0.0<\/td>\n",
              "      <td>0.0<\/td>\n",
              "      <td>0.0<\/td>\n",
              "      <td>0.0<\/td>\n",
              "      <td>0.0<\/td>\n",
              "      <td>0.0<\/td>\n",
              "      <td>0.0<\/td>\n",
              "      <td>0.0<\/td>\n",
              "    <\/tr>\n",
              "    <tr>\n",
              "      <th>2<\/th>\n",
              "      <td>0.0<\/td>\n",
              "      <td>0.0<\/td>\n",
              "      <td>0.0<\/td>\n",
              "      <td>0.0<\/td>\n",
              "      <td>0.0<\/td>\n",
              "      <td>0.0<\/td>\n",
              "      <td>0.0<\/td>\n",
              "      <td>0.0<\/td>\n",
              "      <td>0.0<\/td>\n",
              "      <td>0.0<\/td>\n",
              "      <td>...<\/td>\n",
              "      <td>0.0<\/td>\n",
              "      <td>0.0<\/td>\n",
              "      <td>0.0<\/td>\n",
              "      <td>0.0<\/td>\n",
              "      <td>0.0<\/td>\n",
              "      <td>0.0<\/td>\n",
              "      <td>0.0<\/td>\n",
              "      <td>0.0<\/td>\n",
              "      <td>0.0<\/td>\n",
              "      <td>0.0<\/td>\n",
              "    <\/tr>\n",
              "    <tr>\n",
              "      <th>3<\/th>\n",
              "      <td>0.0<\/td>\n",
              "      <td>0.0<\/td>\n",
              "      <td>0.0<\/td>\n",
              "      <td>0.0<\/td>\n",
              "      <td>0.0<\/td>\n",
              "      <td>0.0<\/td>\n",
              "      <td>0.0<\/td>\n",
              "      <td>0.0<\/td>\n",
              "      <td>0.0<\/td>\n",
              "      <td>0.0<\/td>\n",
              "      <td>...<\/td>\n",
              "      <td>0.0<\/td>\n",
              "      <td>0.0<\/td>\n",
              "      <td>0.0<\/td>\n",
              "      <td>0.0<\/td>\n",
              "      <td>0.0<\/td>\n",
              "      <td>0.0<\/td>\n",
              "      <td>0.0<\/td>\n",
              "      <td>0.0<\/td>\n",
              "      <td>0.0<\/td>\n",
              "      <td>0.0<\/td>\n",
              "    <\/tr>\n",
              "    <tr>\n",
              "      <th>4<\/th>\n",
              "      <td>0.0<\/td>\n",
              "      <td>0.0<\/td>\n",
              "      <td>0.0<\/td>\n",
              "      <td>0.0<\/td>\n",
              "      <td>0.0<\/td>\n",
              "      <td>0.0<\/td>\n",
              "      <td>0.0<\/td>\n",
              "      <td>0.0<\/td>\n",
              "      <td>0.0<\/td>\n",
              "      <td>0.0<\/td>\n",
              "      <td>...<\/td>\n",
              "      <td>0.0<\/td>\n",
              "      <td>0.0<\/td>\n",
              "      <td>0.0<\/td>\n",
              "      <td>0.0<\/td>\n",
              "      <td>0.0<\/td>\n",
              "      <td>0.0<\/td>\n",
              "      <td>0.0<\/td>\n",
              "      <td>0.0<\/td>\n",
              "      <td>0.0<\/td>\n",
              "      <td>0.0<\/td>\n",
              "    <\/tr>\n",
              "    <tr>\n",
              "      <th>...<\/th>\n",
              "      <td>...<\/td>\n",
              "      <td>...<\/td>\n",
              "      <td>...<\/td>\n",
              "      <td>...<\/td>\n",
              "      <td>...<\/td>\n",
              "      <td>...<\/td>\n",
              "      <td>...<\/td>\n",
              "      <td>...<\/td>\n",
              "      <td>...<\/td>\n",
              "      <td>...<\/td>\n",
              "      <td>...<\/td>\n",
              "      <td>...<\/td>\n",
              "      <td>...<\/td>\n",
              "      <td>...<\/td>\n",
              "      <td>...<\/td>\n",
              "      <td>...<\/td>\n",
              "      <td>...<\/td>\n",
              "      <td>...<\/td>\n",
              "      <td>...<\/td>\n",
              "      <td>...<\/td>\n",
              "      <td>...<\/td>\n",
              "    <\/tr>\n",
              "    <tr>\n",
              "      <th>395<\/th>\n",
              "      <td>0.0<\/td>\n",
              "      <td>0.0<\/td>\n",
              "      <td>0.0<\/td>\n",
              "      <td>0.0<\/td>\n",
              "      <td>0.0<\/td>\n",
              "      <td>0.0<\/td>\n",
              "      <td>0.0<\/td>\n",
              "      <td>0.0<\/td>\n",
              "      <td>0.0<\/td>\n",
              "      <td>0.0<\/td>\n",
              "      <td>...<\/td>\n",
              "      <td>0.0<\/td>\n",
              "      <td>0.0<\/td>\n",
              "      <td>0.0<\/td>\n",
              "      <td>0.0<\/td>\n",
              "      <td>0.0<\/td>\n",
              "      <td>0.0<\/td>\n",
              "      <td>0.0<\/td>\n",
              "      <td>0.0<\/td>\n",
              "      <td>0.0<\/td>\n",
              "      <td>0.0<\/td>\n",
              "    <\/tr>\n",
              "    <tr>\n",
              "      <th>396<\/th>\n",
              "      <td>0.0<\/td>\n",
              "      <td>0.0<\/td>\n",
              "      <td>0.0<\/td>\n",
              "      <td>0.0<\/td>\n",
              "      <td>0.0<\/td>\n",
              "      <td>0.0<\/td>\n",
              "      <td>0.0<\/td>\n",
              "      <td>0.0<\/td>\n",
              "      <td>0.0<\/td>\n",
              "      <td>0.0<\/td>\n",
              "      <td>...<\/td>\n",
              "      <td>0.0<\/td>\n",
              "      <td>0.0<\/td>\n",
              "      <td>0.0<\/td>\n",
              "      <td>0.0<\/td>\n",
              "      <td>0.0<\/td>\n",
              "      <td>0.0<\/td>\n",
              "      <td>0.0<\/td>\n",
              "      <td>0.0<\/td>\n",
              "      <td>0.0<\/td>\n",
              "      <td>0.0<\/td>\n",
              "    <\/tr>\n",
              "    <tr>\n",
              "      <th>397<\/th>\n",
              "      <td>0.0<\/td>\n",
              "      <td>0.0<\/td>\n",
              "      <td>0.0<\/td>\n",
              "      <td>0.0<\/td>\n",
              "      <td>0.0<\/td>\n",
              "      <td>0.0<\/td>\n",
              "      <td>0.0<\/td>\n",
              "      <td>0.0<\/td>\n",
              "      <td>0.0<\/td>\n",
              "      <td>0.0<\/td>\n",
              "      <td>...<\/td>\n",
              "      <td>0.0<\/td>\n",
              "      <td>0.0<\/td>\n",
              "      <td>0.0<\/td>\n",
              "      <td>0.0<\/td>\n",
              "      <td>0.0<\/td>\n",
              "      <td>0.0<\/td>\n",
              "      <td>0.0<\/td>\n",
              "      <td>0.0<\/td>\n",
              "      <td>0.0<\/td>\n",
              "      <td>0.0<\/td>\n",
              "    <\/tr>\n",
              "    <tr>\n",
              "      <th>398<\/th>\n",
              "      <td>0.0<\/td>\n",
              "      <td>0.0<\/td>\n",
              "      <td>0.0<\/td>\n",
              "      <td>0.0<\/td>\n",
              "      <td>0.0<\/td>\n",
              "      <td>0.0<\/td>\n",
              "      <td>0.0<\/td>\n",
              "      <td>0.0<\/td>\n",
              "      <td>0.0<\/td>\n",
              "      <td>0.0<\/td>\n",
              "      <td>...<\/td>\n",
              "      <td>0.0<\/td>\n",
              "      <td>0.0<\/td>\n",
              "      <td>0.0<\/td>\n",
              "      <td>0.0<\/td>\n",
              "      <td>0.0<\/td>\n",
              "      <td>0.0<\/td>\n",
              "      <td>0.0<\/td>\n",
              "      <td>0.0<\/td>\n",
              "      <td>0.0<\/td>\n",
              "      <td>0.0<\/td>\n",
              "    <\/tr>\n",
              "    <tr>\n",
              "      <th>399<\/th>\n",
              "      <td>0.0<\/td>\n",
              "      <td>0.0<\/td>\n",
              "      <td>0.0<\/td>\n",
              "      <td>0.0<\/td>\n",
              "      <td>0.0<\/td>\n",
              "      <td>0.0<\/td>\n",
              "      <td>0.0<\/td>\n",
              "      <td>0.0<\/td>\n",
              "      <td>0.0<\/td>\n",
              "      <td>0.0<\/td>\n",
              "      <td>...<\/td>\n",
              "      <td>0.0<\/td>\n",
              "      <td>0.0<\/td>\n",
              "      <td>0.0<\/td>\n",
              "      <td>0.0<\/td>\n",
              "      <td>0.0<\/td>\n",
              "      <td>0.0<\/td>\n",
              "      <td>0.0<\/td>\n",
              "      <td>0.0<\/td>\n",
              "      <td>0.0<\/td>\n",
              "      <td>0.0<\/td>\n",
              "    <\/tr>\n",
              "  <\/tbody>\n",
              "<\/table>\n",
              "<p>400 rows × 1477 columns<\/p>\n",
              "<\/div>"
            ]
          },
          "metadata":{
            
          },
          "output_type":"display_data"
        }
      ],
      "metadata":{
        
      }
    },
    {
      "cell_type":"code",
      "source":[
        "vectorized_datasets.shape"
      ],
      "execution_count":40,
      "outputs":[
        {
          "data":{
            "text\/plain":[
              "(400, 1479)"
            ]
          },
          "metadata":{
            
          },
          "output_type":"display_data"
        }
      ],
      "metadata":{
        
      }
    },
    {
      "cell_type":"markdown",
      "source":[
        "# Feature Engineering"
      ],
      "attachments":{
        
      },
      "metadata":{
        
      }
    },
    {
      "cell_type":"code",
      "source":[
        "vectorized_datasets['Acara TV'] = dataset['Acara TV']\n",
        "vectorized_datasets['Jumlah Retweet'] = dataset['Jumlah Retweet']"
      ],
      "execution_count":15,
      "outputs":[
        
      ],
      "metadata":{
        
      }
    },
    {
      "cell_type":"markdown",
      "source":[
        "# Model Experiment"
      ],
      "attachments":{
        
      },
      "metadata":{
        
      }
    },
    {
      "cell_type":"code",
      "source":[
        "from sklearn.metrics import recall_score, precision_score, accuracy_score, f1_score, confusion_matrix \n",
        "import matplotlib.pyplot as plt\n",
        "import seaborn as sns\n",
        "\n",
        "scores = pd.DataFrame(columns=['Model', 'Accuracy', 'Precision', 'Recall', 'F1 Score'])\n",
        "\n",
        "def evaluate(y_true, y_pred, model_name):\n",
        "    acc = accuracy_score(y_true, y_pred)\n",
        "    rec = recall_score(y_true, y_pred)\n",
        "    prc = precision_score(y_true, y_pred)\n",
        "    f1c = f1_score(y_true, y_pred)\n",
        "    score = [model_name, acc, prc, rec, f1c]\n",
        "\n",
        "    scores.loc[len(scores)] = score\n",
        "\n",
        "    print(f'Acurracy: {acc*100:.2f}%')\n",
        "    print(f'Recall: {rec*100:.2f}%')\n",
        "    print(f'Precision: {prc*100:.2f}%')\n",
        "    print(f'F1 Score: {f1c*100:.2f}%')\n",
        "    cm = confusion_matrix(y_true, y_pred)\n",
        "    sns.heatmap(cm, annot = True)"
      ],
      "execution_count":34,
      "outputs":[
        
      ],
      "metadata":{
        
      }
    },
    {
      "cell_type":"markdown",
      "source":[
        "# Multinomial Naive Bayes"
      ],
      "attachments":{
        
      },
      "metadata":{
        
      }
    },
    {
      "cell_type":"code",
      "source":[
        "from sklearn.naive_bayes import MultinomialNB\n",
        "\n",
        "mnb = MultinomialNB()\n",
        "mnb.fit(X_train, y_train)"
      ],
      "execution_count":18,
      "outputs":[
        {
          "data":{
            "text\/plain":[
              "MultinomialNB()"
            ]
          },
          "metadata":{
            
          },
          "output_type":"display_data"
        }
      ],
      "metadata":{
        
      }
    },
    {
      "cell_type":"code",
      "source":[
        "evaluate(y_test, mnb.predict(X_test), 'MNB')"
      ],
      "execution_count":35,
      "outputs":[
        {
          "name":"stdout",
          "text":[
            "Acurracy: 93.75%\n",
            "Recall: 97.62%\n",
            "Precision: 91.11%\n",
            "F1 Score: 94.25%\n"
          ],
          "output_type":"stream"
        },
        {
          "data":{
            "image\/png":"[encoded data removed]"
          },
          "metadata":{
            "image\/png":{
              
            }
          },
          "output_type":"display_data"
        }
      ],
      "metadata":{
        
      }
    },
    {
      "cell_type":"markdown",
      "source":[
        "# SVM"
      ],
      "attachments":{
        
      },
      "metadata":{
        
      }
    },
    {
      "cell_type":"code",
      "source":[
        "from sklearn.svm import SVC\n",
        "\n",
        "svc = SVC(random_state=42)\n",
        "svc.fit(X_train, y_train)"
      ],
      "execution_count":20,
      "outputs":[
        {
          "data":{
            "text\/plain":[
              "SVC()"
            ]
          },
          "metadata":{
            
          },
          "output_type":"display_data"
        }
      ],
      "metadata":{
        
      }
    },
    {
      "cell_type":"code",
      "source":[
        "evaluate(y_test, svc.predict(X_test), 'SVM')"
      ],
      "execution_count":36,
      "outputs":[
        {
          "name":"stdout",
          "text":[
            "Acurracy: 88.75%\n",
            "Recall: 88.10%\n",
            "Precision: 90.24%\n",
            "F1 Score: 89.16%\n"
          ],
          "output_type":"stream"
        },
        {
          "data":{
            "image\/png":"[encoded data removed]"
          },
          "metadata":{
            "image\/png":{
              
            }
          },
          "output_type":"display_data"
        }
      ],
      "metadata":{
        
      }
    },
    {
      "cell_type":"markdown",
      "source":[
        "# Feedforward Neural Network"
      ],
      "attachments":{
        
      },
      "metadata":{
        
      }
    },
    {
      "cell_type":"code",
      "source":[
        "import tensorflow as tf\n",
        "import numpy as np\n",
        "\n",
        "ann = tf.keras.Sequential()\n",
        "ann.add(tf.keras.layers.Dense(1024, activation='relu', input_shape=(vectorized_datasets.shape[1],)))\n",
        "ann.add(tf.keras.layers.Dense(512, activation='relu'))\n",
        "ann.add(tf.keras.layers.Dense(256, activation='relu'))\n",
        "ann.add(tf.keras.layers.Dropout(0.2))\n",
        "ann.add(tf.keras.layers.Dense(1, activation='sigmoid'))\n",
        "ann.compile(optimizer= tf.keras.optimizers.Adam(), loss='binary_crossentropy', metrics=['accuracy'])\n",
        "ann.fit(np.array(X_train), np.array(y_train), epochs=10)"
      ],
      "execution_count":30,
      "outputs":[
        {
          "name":"stdout",
          "text":[
            "Epoch 1\/10\n",
            "\r 1\/10 [==>...........................] - ETA: 3s - loss: 0.6710 - accuracy: 0.7188\b\b\b\b\b\b\b\b\b\b\b\b\b\b\b\b\b\b\b\b\b\b\b\b\b\b\b\b\b\b\b\b\b\b\b\b\b\b\b\b\b\b\b\b\b\b\b\b\b\b\b\b\b\b\b\b\b\b\b\b\b\b\b\b\b\b\b\b\b\b\b\b\b\b\b\b\b\b\b\b\b\b\r 6\/10 [=================>............] - ETA: 0s - loss: 0.5700 - accuracy: 0.7858\b\b\b\b\b\b\b\b\b\b\b\b\b\b\b\b\b\b\b\b\b\b\b\b\b\b\b\b\b\b\b\b\b\b\b\b\b\b\b\b\b\b\b\b\b\b\b\b\b\b\b\b\b\b\b\b\b\b\b\b\b\b\b\b\b\b\b\b\b\b\b\b\b\b\b\b\b\b\b\b\b\b\r10\/10 [==============================] - 1s 12ms\/step - loss: 0.5330 - accuracy: 0.8006\n",
            "Epoch 2\/10\n",
            "\r 1\/10 [==>...........................] - ETA: 0s - loss: 0.5133 - accuracy: 0.7812\b\b\b\b\b\b\b\b\b\b\b\b\b\b\b\b\b\b\b\b\b\b\b\b\b\b\b\b\b\b\b\b\b\b\b\b\b\b\b\b\b\b\b\b\b\b\b\b\b\b\b\b\b\b\b\b\b\b\b\b\b\b\b\b\b\b\b\b\b\b\b\b\b\b\b\b\b\b\b\b\b\b\r 6\/10 [=================>............] - ETA: 0s - loss: 0.4027 - accuracy: 0.8326\b\b\b\b\b\b\b\b\b\b\b\b\b\b\b\b\b\b\b\b\b\b\b\b\b\b\b\b\b\b\b\b\b\b\b\b\b\b\b\b\b\b\b\b\b\b\b\b\b\b\b\b\b\b\b\b\b\b\b\b\b\b\b\b\b\b\b\b\b\b\b\b\b\b\b\b\b\b\b\b\b\b\r10\/10 [==============================] - ETA: 0s - loss: 0.3724 - accuracy: 0.8432\b\b\b\b\b\b\b\b\b\b\b\b\b\b\b\b\b\b\b\b\b\b\b\b\b\b\b\b\b\b\b\b\b\b\b\b\b\b\b\b\b\b\b\b\b\b\b\b\b\b\b\b\b\b\b\b\b\b\b\b\b\b\b\b\b\b\b\b\b\b\b\b\b\b\b\b\b\b\b\b\b\b\r10\/10 [==============================] - 0s 12ms\/step - loss: 0.3692 - accuracy: 0.8447\n",
            "Epoch 3\/10\n",
            "\r 1\/10 [==>...........................] - ETA: 0s - loss: 0.1800 - accuracy: 0.9062\b\b\b\b\b\b\b\b\b\b\b\b\b\b\b\b\b\b\b\b\b\b\b\b\b\b\b\b\b\b\b\b\b\b\b\b\b\b\b\b\b\b\b\b\b\b\b\b\b\b\b\b\b\b\b\b\b\b\b\b\b\b\b\b\b\b\b\b\b\b\b\b\b\b\b\b\b\b\b\b\b\b\r 5\/10 [==============>...............] - ETA: 0s - loss: 0.2124 - accuracy: 0.8879\b\b\b\b\b\b\b\b\b\b\b\b\b\b\b\b\b\b\b\b\b\b\b\b\b\b\b\b\b\b\b\b\b\b\b\b\b\b\b\b\b\b\b\b\b\b\b\b\b\b\b\b\b\b\b\b\b\b\b\b\b\b\b\b\b\b\b\b\b\b\b\b\b\b\b\b\b\b\b\b\b\b\r10\/10 [==============================] - ETA: 0s - loss: 0.2242 - accuracy: 0.8934\b\b\b\b\b\b\b\b\b\b\b\b\b\b\b\b\b\b\b\b\b\b\b\b\b\b\b\b\b\b\b\b\b\b\b\b\b\b\b\b\b\b\b\b\b\b\b\b\b\b\b\b\b\b\b\b\b\b\b\b\b\b\b\b\b\b\b\b\b\b\b\b\b\b\b\b\b\b\b\b\b\b\r10\/10 [==============================] - 0s 12ms\/step - loss: 0.2248 - accuracy: 0.8937\n",
            "Epoch 4\/10\n",
            "\r 1\/10 [==>...........................] - ETA: 0s - loss: 0.1023 - accuracy: 0.9375\b\b\b\b\b\b\b\b\b\b\b\b\b\b\b\b\b\b\b\b\b\b\b\b\b\b\b\b\b\b\b\b\b\b\b\b\b\b\b\b\b\b\b\b\b\b\b\b\b\b\b\b\b\b\b\b\b\b\b\b\b\b\b\b\b\b\b\b\b\b\b\b\b\b\b\b\b\b\b\b\b\b\r 6\/10 [=================>............] - ETA: 0s - loss: 0.1255 - accuracy: 0.9362\b\b\b\b\b\b\b\b\b\b\b\b\b\b\b\b\b\b\b\b\b\b\b\b\b\b\b\b\b\b\b\b\b\b\b\b\b\b\b\b\b\b\b\b\b\b\b\b\b\b\b\b\b\b\b\b\b\b\b\b\b\b\b\b\b\b\b\b\b\b\b\b\b\b\b\b\b\b\b\b\b\b\r10\/10 [==============================] - 0s 12ms\/step - loss: 0.1207 - accuracy: 0.9443\n",
            "Epoch 5\/10\n",
            "\r 1\/10 [==>...........................] - ETA: 0s - loss: 0.0428 - accuracy: 1.0000\b\b\b\b\b\b\b\b\b\b\b\b\b\b\b\b\b\b\b\b\b\b\b\b\b\b\b\b\b\b\b\b\b\b\b\b\b\b\b\b\b\b\b\b\b\b\b\b\b\b\b\b\b\b\b\b\b\b\b\b\b\b\b\b\b\b\b\b\b\b\b\b\b\b\b\b\b\b\b\b\b\b\r 6\/10 [=================>............] - ETA: 0s - loss: 0.0407 - accuracy: 1.0000\b\b\b\b\b\b\b\b\b\b\b\b\b\b\b\b\b\b\b\b\b\b\b\b\b\b\b\b\b\b\b\b\b\b\b\b\b\b\b\b\b\b\b\b\b\b\b\b\b\b\b\b\b\b\b\b\b\b\b\b\b\b\b\b\b\b\b\b\b\b\b\b\b\b\b\b\b\b\b\b\b\b\r10\/10 [==============================] - 0s 13ms\/step - loss: 0.0348 - accuracy: 1.0000\n",
            "Epoch 6\/10\n",
            "\r 1\/10 [==>...........................] - ETA: 0s - loss: 0.0026 - accuracy: 1.0000\b\b\b\b\b\b\b\b\b\b\b\b\b\b\b\b\b\b\b\b\b\b\b\b\b\b\b\b\b\b\b\b\b\b\b\b\b\b\b\b\b\b\b\b\b\b\b\b\b\b\b\b\b\b\b\b\b\b\b\b\b\b\b\b\b\b\b\b\b\b\b\b\b\b\b\b\b\b\b\b\b\b\r 5\/10 [==============>...............] - ETA: 0s - loss: 0.0050 - accuracy: 1.0000\b\b\b\b\b\b\b\b\b\b\b\b\b\b\b\b\b\b\b\b\b\b\b\b\b\b\b\b\b\b\b\b\b\b\b\b\b\b\b\b\b\b\b\b\b\b\b\b\b\b\b\b\b\b\b\b\b\b\b\b\b\b\b\b\b\b\b\b\b\b\b\b\b\b\b\b\b\b\b\b\b\b\r 9\/10 [==========================>...] - ETA: 0s - loss: 0.0051 - accuracy: 1.0000\b\b\b\b\b\b\b\b\b\b\b\b\b\b\b\b\b\b\b\b\b\b\b\b\b\b\b\b\b\b\b\b\b\b\b\b\b\b\b\b\b\b\b\b\b\b\b\b\b\b\b\b\b\b\b\b\b\b\b\b\b\b\b\b\b\b\b\b\b\b\b\b\b\b\b\b\b\b\b\b\b\b\r10\/10 [==============================] - 0s 14ms\/step - loss: 0.0050 - accuracy: 1.0000\n",
            "Epoch 7\/10\n",
            "\r 1\/10 [==>...........................] - ETA: 0s - loss: 0.0020 - accuracy: 1.0000\b\b\b\b\b\b\b\b\b\b\b\b\b\b\b\b\b\b\b\b\b\b\b\b\b\b\b\b\b\b\b\b\b\b\b\b\b\b\b\b\b\b\b\b\b\b\b\b\b\b\b\b\b\b\b\b\b\b\b\b\b\b\b\b\b\b\b\b\b\b\b\b\b\b\b\b\b\b\b\b\b\b\r 6\/10 [=================>............] - ETA: 0s - loss: 0.0015 - accuracy: 1.0000\b\b\b\b\b\b\b\b\b\b\b\b\b\b\b\b\b\b\b\b\b\b\b\b\b\b\b\b\b\b\b\b\b\b\b\b\b\b\b\b\b\b\b\b\b\b\b\b\b\b\b\b\b\b\b\b\b\b\b\b\b\b\b\b\b\b\b\b\b\b\b\b\b\b\b\b\b\b\b\b\b\b\r10\/10 [==============================] - 0s 12ms\/step - loss: 0.0015 - accuracy: 1.0000\n",
            "Epoch 8\/10\n",
            "\r 1\/10 [==>...........................] - ETA: 0s - loss: 0.0032 - accuracy: 1.0000\b\b\b\b\b\b\b\b\b\b\b\b\b\b\b\b\b\b\b\b\b\b\b\b\b\b\b\b\b\b\b\b\b\b\b\b\b\b\b\b\b\b\b\b\b\b\b\b\b\b\b\b\b\b\b\b\b\b\b\b\b\b\b\b\b\b\b\b\b\b\b\b\b\b\b\b\b\b\b\b\b\b\r 6\/10 [=================>............] - ETA: 0s - loss: 0.0017 - accuracy: 1.0000\b\b\b\b\b\b\b\b\b\b\b\b\b\b\b\b\b\b\b\b\b\b\b\b\b\b\b\b\b\b\b\b\b\b\b\b\b\b\b\b\b\b\b\b\b\b\b\b\b\b\b\b\b\b\b\b\b\b\b\b\b\b\b\b\b\b\b\b\b\b\b\b\b\b\b\b\b\b\b\b\b\b\r10\/10 [==============================] - 0s 12ms\/step - loss: 0.0013 - accuracy: 1.0000\n",
            "Epoch 9\/10\n",
            "\r 1\/10 [==>...........................] - ETA: 0s - loss: 3.2181e-04 - accuracy: 1.0000\b\b\b\b\b\b\b\b\b\b\b\b\b\b\b\b\b\b\b\b\b\b\b\b\b\b\b\b\b\b\b\b\b\b\b\b\b\b\b\b\b\b\b\b\b\b\b\b\b\b\b\b\b\b\b\b\b\b\b\b\b\b\b\b\b\b\b\b\b\b\b\b\b\b\b\b\b\b\b\b\b\b\b\b\b\b\r 6\/10 [=================>............] - ETA: 0s - loss: 3.5683e-04 - accuracy: 1.0000\b\b\b\b\b\b\b\b\b\b\b\b\b\b\b\b\b\b\b\b\b\b\b\b\b\b\b\b\b\b\b\b\b\b\b\b\b\b\b\b\b\b\b\b\b\b\b\b\b\b\b\b\b\b\b\b\b\b\b\b\b\b\b\b\b\b\b\b\b\b\b\b\b\b\b\b\b\b\b\b\b\b\b\b\b\b\r10\/10 [==============================] - 0s 12ms\/step - loss: 3.0631e-04 - accuracy: 1.0000\n",
            "Epoch 10\/10\n",
            "\r 1\/10 [==>...........................] - ETA: 0s - loss: 6.5398e-05 - accuracy: 1.0000\b\b\b\b\b\b\b\b\b\b\b\b\b\b\b\b\b\b\b\b\b\b\b\b\b\b\b\b\b\b\b\b\b\b\b\b\b\b\b\b\b\b\b\b\b\b\b\b\b\b\b\b\b\b\b\b\b\b\b\b\b\b\b\b\b\b\b\b\b\b\b\b\b\b\b\b\b\b\b\b\b\b\b\b\b\b\r 6\/10 [=================>............] - ETA: 0s - loss: 1.2122e-04 - accuracy: 1.0000\b\b\b\b\b\b\b\b\b\b\b\b\b\b\b\b\b\b\b\b\b\b\b\b\b\b\b\b\b\b\b\b\b\b\b\b\b\b\b\b\b\b\b\b\b\b\b\b\b\b\b\b\b\b\b\b\b\b\b\b\b\b\b\b\b\b\b\b\b\b\b\b\b\b\b\b\b\b\b\b\b\b\b\b\b\b\r10\/10 [==============================] - 0s 11ms\/step - loss: 1.5184e-04 - accuracy: 1.0000\n"
          ],
          "output_type":"stream"
        },
        {
          "data":{
            "text\/plain":[
              "<tensorflow.python.keras.callbacks.History at 0x7fc839fbd370>"
            ]
          },
          "metadata":{
            
          },
          "output_type":"display_data"
        }
      ],
      "metadata":{
        
      }
    },
    {
      "cell_type":"code",
      "source":[
        "evaluate(y_test, ann.predict_classes(np.array(X_test)), 'FNN')"
      ],
      "execution_count":37,
      "outputs":[
        {
          "name":"stdout",
          "text":[
            "Acurracy: 97.50%\n",
            "Recall: 100.00%\n",
            "Precision: 95.45%\n",
            "F1 Score: 97.67%\n"
          ],
          "output_type":"stream"
        },
        {
          "data":{
            "image\/png":"[encoded data removed]"
          },
          "metadata":{
            "image\/png":{
              
            }
          },
          "output_type":"display_data"
        }
      ],
      "metadata":{
        
      }
    },
    {
      "cell_type":"code",
      "source":[
        "scores"
      ],
      "execution_count":38,
      "outputs":[
        {
          "data":{
            "text\/html":[
              "<div>\n",
              "<style scoped>\n",
              "    .dataframe tbody tr th:only-of-type {\n",
              "        vertical-align: middle;\n",
              "    }\n",
              "\n",
              "    .dataframe tbody tr th {\n",
              "        vertical-align: top;\n",
              "    }\n",
              "\n",
              "    .dataframe thead th {\n",
              "        text-align: right;\n",
              "    }\n",
              "<\/style>\n",
              "<table border=\"1\" class=\"dataframe\">\n",
              "  <thead>\n",
              "    <tr style=\"text-align: right;\">\n",
              "      <th><\/th>\n",
              "      <th>Model<\/th>\n",
              "      <th>Accuracy<\/th>\n",
              "      <th>Precision<\/th>\n",
              "      <th>Recall<\/th>\n",
              "      <th>F1 Score<\/th>\n",
              "    <\/tr>\n",
              "  <\/thead>\n",
              "  <tbody>\n",
              "    <tr>\n",
              "      <th>0<\/th>\n",
              "      <td>MNB<\/td>\n",
              "      <td>0.9375<\/td>\n",
              "      <td>0.911111<\/td>\n",
              "      <td>0.976190<\/td>\n",
              "      <td>0.942529<\/td>\n",
              "    <\/tr>\n",
              "    <tr>\n",
              "      <th>1<\/th>\n",
              "      <td>SVM<\/td>\n",
              "      <td>0.8875<\/td>\n",
              "      <td>0.902439<\/td>\n",
              "      <td>0.880952<\/td>\n",
              "      <td>0.891566<\/td>\n",
              "    <\/tr>\n",
              "    <tr>\n",
              "      <th>2<\/th>\n",
              "      <td>FNN<\/td>\n",
              "      <td>0.9750<\/td>\n",
              "      <td>0.954545<\/td>\n",
              "      <td>1.000000<\/td>\n",
              "      <td>0.976744<\/td>\n",
              "    <\/tr>\n",
              "  <\/tbody>\n",
              "<\/table>\n",
              "<\/div>"
            ]
          },
          "metadata":{
            
          },
          "output_type":"display_data"
        }
      ],
      "metadata":{
        
      }
    },
    {
      "cell_type":"code",
      "source":[
        "import matplotlib.pyplot as plt\n",
        "\n",
        "plt.figure(figsize=(10, 10))\n",
        "\n",
        "scores.plot.bar(rot=10, figsize=(20,5), x = 'Model')"
      ],
      "execution_count":39,
      "outputs":[
        {
          "data":{
            "text\/plain":[
              "<Figure size 720x720 with 0 Axes>"
            ],
            "image\/png":"[encoded data removed]"
          },
          "metadata":{
            "image\/png":{
              
            }
          },
          "output_type":"display_data"
        }
      ],
      "metadata":{
        
      }
    }
  ],
  "metadata":{
    
  },
  "nbformat":4,
  "nbformat_minor":0
}